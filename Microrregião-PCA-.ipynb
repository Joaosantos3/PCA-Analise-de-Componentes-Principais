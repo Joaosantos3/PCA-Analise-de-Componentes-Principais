{
 "cells": [
  {
   "cell_type": "markdown",
   "metadata": {},
   "source": [
    "<h2>ANÁLISE DE COMPONENTES PRINCIPAIS PARA IDENTIFICAÇÃO DE APLs <h2>"
   ]
  },
  {
   "cell_type": "markdown",
   "metadata": {},
   "source": [
    "<h2>IMPORTAÇÃO DE BBT<h2>"
   ]
  },
  {
   "cell_type": "code",
   "execution_count": 45,
   "metadata": {},
   "outputs": [],
   "source": [
    "#importação de bbt\n",
    "\n",
    "import numpy as np\n",
    "import pandas as pd\n",
    "import matplotlib.pyplot as plt\n",
    "import seaborn as sns\n",
    "%matplotlib inline"
   ]
  },
  {
   "cell_type": "markdown",
   "metadata": {},
   "source": [
    "<h2>IMPORTAÇÃO DOS DADOS<h2>"
   ]
  },
  {
   "cell_type": "code",
   "execution_count": 46,
   "metadata": {},
   "outputs": [
    {
     "data": {
      "text/html": [
       "<div>\n",
       "<style scoped>\n",
       "    .dataframe tbody tr th:only-of-type {\n",
       "        vertical-align: middle;\n",
       "    }\n",
       "\n",
       "    .dataframe tbody tr th {\n",
       "        vertical-align: top;\n",
       "    }\n",
       "\n",
       "    .dataframe thead th {\n",
       "        text-align: right;\n",
       "    }\n",
       "</style>\n",
       "<table border=\"1\" class=\"dataframe\">\n",
       "  <thead>\n",
       "    <tr style=\"text-align: right;\">\n",
       "      <th></th>\n",
       "      <th>Microrregiao</th>\n",
       "      <th>1</th>\n",
       "      <th>2</th>\n",
       "      <th>3</th>\n",
       "    </tr>\n",
       "  </thead>\n",
       "  <tbody>\n",
       "    <tr>\n",
       "      <td>0</td>\n",
       "      <td>Porto Velho</td>\n",
       "      <td>0</td>\n",
       "      <td>0</td>\n",
       "      <td>0</td>\n",
       "    </tr>\n",
       "    <tr>\n",
       "      <td>1</td>\n",
       "      <td>Ariquemes</td>\n",
       "      <td>0</td>\n",
       "      <td>1</td>\n",
       "      <td>0</td>\n",
       "    </tr>\n",
       "    <tr>\n",
       "      <td>2</td>\n",
       "      <td>Ji-Paraná</td>\n",
       "      <td>16</td>\n",
       "      <td>0</td>\n",
       "      <td>0</td>\n",
       "    </tr>\n",
       "    <tr>\n",
       "      <td>3</td>\n",
       "      <td>Vilhena</td>\n",
       "      <td>6</td>\n",
       "      <td>0</td>\n",
       "      <td>0</td>\n",
       "    </tr>\n",
       "    <tr>\n",
       "      <td>4</td>\n",
       "      <td>Rio Branco</td>\n",
       "      <td>8</td>\n",
       "      <td>0</td>\n",
       "      <td>0</td>\n",
       "    </tr>\n",
       "    <tr>\n",
       "      <td>...</td>\n",
       "      <td>...</td>\n",
       "      <td>...</td>\n",
       "      <td>...</td>\n",
       "      <td>...</td>\n",
       "    </tr>\n",
       "    <tr>\n",
       "      <td>161</td>\n",
       "      <td>Goiânia</td>\n",
       "      <td>185</td>\n",
       "      <td>0</td>\n",
       "      <td>16</td>\n",
       "    </tr>\n",
       "    <tr>\n",
       "      <td>162</td>\n",
       "      <td>Entorno de Brasília</td>\n",
       "      <td>10</td>\n",
       "      <td>0</td>\n",
       "      <td>0</td>\n",
       "    </tr>\n",
       "    <tr>\n",
       "      <td>163</td>\n",
       "      <td>Sudoeste de Goiás</td>\n",
       "      <td>7</td>\n",
       "      <td>0</td>\n",
       "      <td>0</td>\n",
       "    </tr>\n",
       "    <tr>\n",
       "      <td>164</td>\n",
       "      <td>Meia Ponte</td>\n",
       "      <td>0</td>\n",
       "      <td>0</td>\n",
       "      <td>0</td>\n",
       "    </tr>\n",
       "    <tr>\n",
       "      <td>165</td>\n",
       "      <td>Brasília</td>\n",
       "      <td>61</td>\n",
       "      <td>6</td>\n",
       "      <td>0</td>\n",
       "    </tr>\n",
       "  </tbody>\n",
       "</table>\n",
       "<p>166 rows × 4 columns</p>\n",
       "</div>"
      ],
      "text/plain": [
       "            Microrregiao    1  2   3\n",
       "0            Porto Velho    0  0   0\n",
       "1              Ariquemes    0  1   0\n",
       "2              Ji-Paraná   16  0   0\n",
       "3                Vilhena    6  0   0\n",
       "4             Rio Branco    8  0   0\n",
       "..                   ...  ... ..  ..\n",
       "161              Goiânia  185  0  16\n",
       "162  Entorno de Brasília   10  0   0\n",
       "163    Sudoeste de Goiás    7  0   0\n",
       "164           Meia Ponte    0  0   0\n",
       "165             Brasília   61  6   0\n",
       "\n",
       "[166 rows x 4 columns]"
      ]
     },
     "execution_count": 46,
     "metadata": {},
     "output_type": "execute_result"
    }
   ],
   "source": [
    "#importar dados de microrregiões\n",
    "\n",
    "datamicro=pd.read_excel(r'C:\\Users\\joaov\\Downloads\\MICROREGIAO-EMPREGO2018MOD.xlsx')\n",
    "\n",
    "# 1--->(Fabricação de Máquinas e Aparelhos de Refrigeração e Ventilação para Uso Industrial e Comercial, Peças e Acessórios)\n",
    "# 2--->(Fabricação de Aparelhos e Equipamentos de Ar Condicionado para Uso Industrial)\n",
    "# 3--->(Fabricação de Aparelhos e Equipamentos de Ar Condicionado para Uso Não-Industrial)\n",
    "\n",
    "\n",
    "datamicro.columns=['Microrregiao','1','2','3']\n",
    "datamicro"
   ]
  },
  {
   "cell_type": "markdown",
   "metadata": {},
   "source": [
    "<h2>TRATAMENTO DOS DADOS<h2>"
   ]
  },
  {
   "cell_type": "code",
   "execution_count": 47,
   "metadata": {},
   "outputs": [
    {
     "data": {
      "text/plain": [
       "0              Porto Velho\n",
       "1                Ariquemes\n",
       "2                Ji-Paraná\n",
       "3                  Vilhena\n",
       "4               Rio Branco\n",
       "              ...         \n",
       "161                Goiânia\n",
       "162    Entorno de Brasília\n",
       "163      Sudoeste de Goiás\n",
       "164             Meia Ponte\n",
       "165               Brasília\n",
       "Name: Microrregiao, Length: 166, dtype: object"
      ]
     },
     "execution_count": 47,
     "metadata": {},
     "output_type": "execute_result"
    }
   ],
   "source": [
    "#separar microrregiões do DataFrame parte1\n",
    "\n",
    "matrixmicro=datamicro['Microrregiao']\n",
    "\n",
    "matrixmicro"
   ]
  },
  {
   "cell_type": "code",
   "execution_count": 48,
   "metadata": {},
   "outputs": [
    {
     "data": {
      "text/html": [
       "<div>\n",
       "<style scoped>\n",
       "    .dataframe tbody tr th:only-of-type {\n",
       "        vertical-align: middle;\n",
       "    }\n",
       "\n",
       "    .dataframe tbody tr th {\n",
       "        vertical-align: top;\n",
       "    }\n",
       "\n",
       "    .dataframe thead th {\n",
       "        text-align: right;\n",
       "    }\n",
       "</style>\n",
       "<table border=\"1\" class=\"dataframe\">\n",
       "  <thead>\n",
       "    <tr style=\"text-align: right;\">\n",
       "      <th></th>\n",
       "      <th>1</th>\n",
       "      <th>2</th>\n",
       "      <th>3</th>\n",
       "    </tr>\n",
       "  </thead>\n",
       "  <tbody>\n",
       "    <tr>\n",
       "      <td>0</td>\n",
       "      <td>0</td>\n",
       "      <td>0</td>\n",
       "      <td>0</td>\n",
       "    </tr>\n",
       "    <tr>\n",
       "      <td>1</td>\n",
       "      <td>0</td>\n",
       "      <td>1</td>\n",
       "      <td>0</td>\n",
       "    </tr>\n",
       "    <tr>\n",
       "      <td>2</td>\n",
       "      <td>16</td>\n",
       "      <td>0</td>\n",
       "      <td>0</td>\n",
       "    </tr>\n",
       "    <tr>\n",
       "      <td>3</td>\n",
       "      <td>6</td>\n",
       "      <td>0</td>\n",
       "      <td>0</td>\n",
       "    </tr>\n",
       "    <tr>\n",
       "      <td>4</td>\n",
       "      <td>8</td>\n",
       "      <td>0</td>\n",
       "      <td>0</td>\n",
       "    </tr>\n",
       "    <tr>\n",
       "      <td>...</td>\n",
       "      <td>...</td>\n",
       "      <td>...</td>\n",
       "      <td>...</td>\n",
       "    </tr>\n",
       "    <tr>\n",
       "      <td>161</td>\n",
       "      <td>185</td>\n",
       "      <td>0</td>\n",
       "      <td>16</td>\n",
       "    </tr>\n",
       "    <tr>\n",
       "      <td>162</td>\n",
       "      <td>10</td>\n",
       "      <td>0</td>\n",
       "      <td>0</td>\n",
       "    </tr>\n",
       "    <tr>\n",
       "      <td>163</td>\n",
       "      <td>7</td>\n",
       "      <td>0</td>\n",
       "      <td>0</td>\n",
       "    </tr>\n",
       "    <tr>\n",
       "      <td>164</td>\n",
       "      <td>0</td>\n",
       "      <td>0</td>\n",
       "      <td>0</td>\n",
       "    </tr>\n",
       "    <tr>\n",
       "      <td>165</td>\n",
       "      <td>61</td>\n",
       "      <td>6</td>\n",
       "      <td>0</td>\n",
       "    </tr>\n",
       "  </tbody>\n",
       "</table>\n",
       "<p>166 rows × 3 columns</p>\n",
       "</div>"
      ],
      "text/plain": [
       "       1  2   3\n",
       "0      0  0   0\n",
       "1      0  1   0\n",
       "2     16  0   0\n",
       "3      6  0   0\n",
       "4      8  0   0\n",
       "..   ... ..  ..\n",
       "161  185  0  16\n",
       "162   10  0   0\n",
       "163    7  0   0\n",
       "164    0  0   0\n",
       "165   61  6   0\n",
       "\n",
       "[166 rows x 3 columns]"
      ]
     },
     "execution_count": 48,
     "metadata": {},
     "output_type": "execute_result"
    }
   ],
   "source": [
    "#separar microrregiões do DataFrame parte2\n",
    "\n",
    "datamicro.drop('Microrregiao',1,inplace=True)\n",
    "\n",
    "datamicro"
   ]
  },
  {
   "cell_type": "code",
   "execution_count": 49,
   "metadata": {},
   "outputs": [
    {
     "data": {
      "text/html": [
       "<div>\n",
       "<style scoped>\n",
       "    .dataframe tbody tr th:only-of-type {\n",
       "        vertical-align: middle;\n",
       "    }\n",
       "\n",
       "    .dataframe tbody tr th {\n",
       "        vertical-align: top;\n",
       "    }\n",
       "\n",
       "    .dataframe thead th {\n",
       "        text-align: right;\n",
       "    }\n",
       "</style>\n",
       "<table border=\"1\" class=\"dataframe\">\n",
       "  <thead>\n",
       "    <tr style=\"text-align: right;\">\n",
       "      <th></th>\n",
       "      <th>1</th>\n",
       "    </tr>\n",
       "    <tr>\n",
       "      <th>Microrregiao</th>\n",
       "      <th></th>\n",
       "    </tr>\n",
       "  </thead>\n",
       "  <tbody>\n",
       "    <tr>\n",
       "      <td>Porto Velho</td>\n",
       "      <td>0</td>\n",
       "    </tr>\n",
       "    <tr>\n",
       "      <td>Ariquemes</td>\n",
       "      <td>0</td>\n",
       "    </tr>\n",
       "    <tr>\n",
       "      <td>Ji-Paraná</td>\n",
       "      <td>16</td>\n",
       "    </tr>\n",
       "    <tr>\n",
       "      <td>Vilhena</td>\n",
       "      <td>6</td>\n",
       "    </tr>\n",
       "    <tr>\n",
       "      <td>Rio Branco</td>\n",
       "      <td>8</td>\n",
       "    </tr>\n",
       "    <tr>\n",
       "      <td>...</td>\n",
       "      <td>...</td>\n",
       "    </tr>\n",
       "    <tr>\n",
       "      <td>Goiânia</td>\n",
       "      <td>185</td>\n",
       "    </tr>\n",
       "    <tr>\n",
       "      <td>Entorno de Brasília</td>\n",
       "      <td>10</td>\n",
       "    </tr>\n",
       "    <tr>\n",
       "      <td>Sudoeste de Goiás</td>\n",
       "      <td>7</td>\n",
       "    </tr>\n",
       "    <tr>\n",
       "      <td>Meia Ponte</td>\n",
       "      <td>0</td>\n",
       "    </tr>\n",
       "    <tr>\n",
       "      <td>Brasília</td>\n",
       "      <td>61</td>\n",
       "    </tr>\n",
       "  </tbody>\n",
       "</table>\n",
       "<p>166 rows × 1 columns</p>\n",
       "</div>"
      ],
      "text/plain": [
       "                       1\n",
       "Microrregiao            \n",
       "Porto Velho            0\n",
       "Ariquemes              0\n",
       "Ji-Paraná             16\n",
       "Vilhena                6\n",
       "Rio Branco             8\n",
       "...                  ...\n",
       "Goiânia              185\n",
       "Entorno de Brasília   10\n",
       "Sudoeste de Goiás      7\n",
       "Meia Ponte             0\n",
       "Brasília              61\n",
       "\n",
       "[166 rows x 1 columns]"
      ]
     },
     "execution_count": 49,
     "metadata": {},
     "output_type": "execute_result"
    }
   ],
   "source": [
    "#Dividir atividades ligadas à ar condicionado em DATA FRAMES\n",
    "\n",
    "# A1--->(Fabricação de Máquinas e Aparelhos de Refrigeração e Ventilação para Uso Industrial e Comercial, Peças e Acessórios)\n",
    "# A2--->(Fabricação de Aparelhos e Equipamentos de Ar Condicionado para Uso Industrial)\n",
    "# A3--->(Fabricação de Aparelhos e Equipamentos de Ar Condicionado para Uso Não-Industrial)\n",
    "\n",
    "A1=pd.DataFrame(datamicro['1'].values,index=matrixmicro, columns=['1'])\n",
    "A2=pd.DataFrame(datamicro['2'].values,index=matrixmicro, columns=['2'])\n",
    "A3=pd.DataFrame(datamicro['3'].values,index=matrixmicro, columns=['3'])\n",
    "\n",
    "A1"
   ]
  },
  {
   "cell_type": "code",
   "execution_count": 50,
   "metadata": {},
   "outputs": [
    {
     "data": {
      "text/html": [
       "<div>\n",
       "<style scoped>\n",
       "    .dataframe tbody tr th:only-of-type {\n",
       "        vertical-align: middle;\n",
       "    }\n",
       "\n",
       "    .dataframe tbody tr th {\n",
       "        vertical-align: top;\n",
       "    }\n",
       "\n",
       "    .dataframe thead th {\n",
       "        text-align: right;\n",
       "    }\n",
       "</style>\n",
       "<table border=\"1\" class=\"dataframe\">\n",
       "  <thead>\n",
       "    <tr style=\"text-align: right;\">\n",
       "      <th></th>\n",
       "      <th>Microrregião</th>\n",
       "      <th>Abate de Reses, Exceto Suínos</th>\n",
       "      <th>Abate de Suínos, Aves e Outros Pequenos Animais</th>\n",
       "      <th>Fabricação de Produtos de Carne</th>\n",
       "      <th>Preservação do Pescado e Fabricação de Produtos do Pescado</th>\n",
       "      <th>Fabricação de Conservas de Frutas</th>\n",
       "      <th>Fabricação de Conservas de Legumes e Outros Vegetais</th>\n",
       "      <th>Fabricação de Sucos de Frutas, Hortaliças e Legumes</th>\n",
       "      <th>Fabricação de óleos Vegetais em Bruto, Exceto óleo de Milho</th>\n",
       "      <th>Fabricação de óleos Vegetais Refinados, Exceto óleo de Milho</th>\n",
       "      <th>...</th>\n",
       "      <th>Manutenção e Reparação de Tanques, Reservatórios Metálicos e Caldeiras, Exceto para Veículos</th>\n",
       "      <th>Manutenção e Reparação de Equipamentos Eletrônicos e ópticos</th>\n",
       "      <th>Manutenção e Reparação de Máquinas e Equipamentos Elétricos</th>\n",
       "      <th>Manutenção e Reparação de Máquinas e Equipamentos da Indústria Mecânica</th>\n",
       "      <th>Manutenção e Reparação de Veículos Ferroviários</th>\n",
       "      <th>Manutenção e Reparação de Aeronaves</th>\n",
       "      <th>Manutenção e Reparação de Embarcações</th>\n",
       "      <th>Manutenção e Reparação de Equipamentos e Produtos não Especificados Anteriormente</th>\n",
       "      <th>Instalação de Máquinas e Equipamentos Industriais</th>\n",
       "      <th>Instalação de Equipamentos não Especificados Anteriormente</th>\n",
       "    </tr>\n",
       "  </thead>\n",
       "  <tbody>\n",
       "    <tr>\n",
       "      <td>0</td>\n",
       "      <td>Porto Velho</td>\n",
       "      <td>396</td>\n",
       "      <td>14</td>\n",
       "      <td>117</td>\n",
       "      <td>2</td>\n",
       "      <td>22</td>\n",
       "      <td>3</td>\n",
       "      <td>33</td>\n",
       "      <td>0</td>\n",
       "      <td>0</td>\n",
       "      <td>...</td>\n",
       "      <td>3</td>\n",
       "      <td>13</td>\n",
       "      <td>38</td>\n",
       "      <td>79</td>\n",
       "      <td>3</td>\n",
       "      <td>0</td>\n",
       "      <td>2</td>\n",
       "      <td>3</td>\n",
       "      <td>41</td>\n",
       "      <td>25</td>\n",
       "    </tr>\n",
       "    <tr>\n",
       "      <td>1</td>\n",
       "      <td>Guajará-Mirim</td>\n",
       "      <td>50</td>\n",
       "      <td>0</td>\n",
       "      <td>0</td>\n",
       "      <td>0</td>\n",
       "      <td>0</td>\n",
       "      <td>0</td>\n",
       "      <td>0</td>\n",
       "      <td>0</td>\n",
       "      <td>0</td>\n",
       "      <td>...</td>\n",
       "      <td>0</td>\n",
       "      <td>0</td>\n",
       "      <td>0</td>\n",
       "      <td>1</td>\n",
       "      <td>0</td>\n",
       "      <td>0</td>\n",
       "      <td>0</td>\n",
       "      <td>0</td>\n",
       "      <td>0</td>\n",
       "      <td>0</td>\n",
       "    </tr>\n",
       "    <tr>\n",
       "      <td>2</td>\n",
       "      <td>Ariquemes</td>\n",
       "      <td>104</td>\n",
       "      <td>2</td>\n",
       "      <td>3</td>\n",
       "      <td>232</td>\n",
       "      <td>1</td>\n",
       "      <td>4</td>\n",
       "      <td>0</td>\n",
       "      <td>0</td>\n",
       "      <td>0</td>\n",
       "      <td>...</td>\n",
       "      <td>0</td>\n",
       "      <td>0</td>\n",
       "      <td>4</td>\n",
       "      <td>21</td>\n",
       "      <td>0</td>\n",
       "      <td>0</td>\n",
       "      <td>0</td>\n",
       "      <td>0</td>\n",
       "      <td>1</td>\n",
       "      <td>18</td>\n",
       "    </tr>\n",
       "    <tr>\n",
       "      <td>3</td>\n",
       "      <td>Ji-Paraná</td>\n",
       "      <td>3659</td>\n",
       "      <td>33</td>\n",
       "      <td>191</td>\n",
       "      <td>0</td>\n",
       "      <td>54</td>\n",
       "      <td>0</td>\n",
       "      <td>0</td>\n",
       "      <td>27</td>\n",
       "      <td>0</td>\n",
       "      <td>...</td>\n",
       "      <td>3</td>\n",
       "      <td>7</td>\n",
       "      <td>16</td>\n",
       "      <td>67</td>\n",
       "      <td>0</td>\n",
       "      <td>0</td>\n",
       "      <td>0</td>\n",
       "      <td>1</td>\n",
       "      <td>6</td>\n",
       "      <td>14</td>\n",
       "    </tr>\n",
       "    <tr>\n",
       "      <td>4</td>\n",
       "      <td>Alvorada Doeste</td>\n",
       "      <td>973</td>\n",
       "      <td>0</td>\n",
       "      <td>0</td>\n",
       "      <td>0</td>\n",
       "      <td>2</td>\n",
       "      <td>0</td>\n",
       "      <td>0</td>\n",
       "      <td>0</td>\n",
       "      <td>0</td>\n",
       "      <td>...</td>\n",
       "      <td>0</td>\n",
       "      <td>0</td>\n",
       "      <td>0</td>\n",
       "      <td>0</td>\n",
       "      <td>0</td>\n",
       "      <td>0</td>\n",
       "      <td>0</td>\n",
       "      <td>0</td>\n",
       "      <td>0</td>\n",
       "      <td>0</td>\n",
       "    </tr>\n",
       "    <tr>\n",
       "      <td>...</td>\n",
       "      <td>...</td>\n",
       "      <td>...</td>\n",
       "      <td>...</td>\n",
       "      <td>...</td>\n",
       "      <td>...</td>\n",
       "      <td>...</td>\n",
       "      <td>...</td>\n",
       "      <td>...</td>\n",
       "      <td>...</td>\n",
       "      <td>...</td>\n",
       "      <td>...</td>\n",
       "      <td>...</td>\n",
       "      <td>...</td>\n",
       "      <td>...</td>\n",
       "      <td>...</td>\n",
       "      <td>...</td>\n",
       "      <td>...</td>\n",
       "      <td>...</td>\n",
       "      <td>...</td>\n",
       "      <td>...</td>\n",
       "      <td>...</td>\n",
       "    </tr>\n",
       "    <tr>\n",
       "      <td>551</td>\n",
       "      <td>Meia Ponte</td>\n",
       "      <td>194</td>\n",
       "      <td>569</td>\n",
       "      <td>9</td>\n",
       "      <td>0</td>\n",
       "      <td>6</td>\n",
       "      <td>494</td>\n",
       "      <td>2</td>\n",
       "      <td>257</td>\n",
       "      <td>1066</td>\n",
       "      <td>...</td>\n",
       "      <td>1</td>\n",
       "      <td>0</td>\n",
       "      <td>28</td>\n",
       "      <td>132</td>\n",
       "      <td>0</td>\n",
       "      <td>0</td>\n",
       "      <td>5</td>\n",
       "      <td>16</td>\n",
       "      <td>147</td>\n",
       "      <td>22</td>\n",
       "    </tr>\n",
       "    <tr>\n",
       "      <td>552</td>\n",
       "      <td>Pires do Rio</td>\n",
       "      <td>39</td>\n",
       "      <td>2833</td>\n",
       "      <td>305</td>\n",
       "      <td>0</td>\n",
       "      <td>0</td>\n",
       "      <td>0</td>\n",
       "      <td>0</td>\n",
       "      <td>145</td>\n",
       "      <td>0</td>\n",
       "      <td>...</td>\n",
       "      <td>0</td>\n",
       "      <td>0</td>\n",
       "      <td>1</td>\n",
       "      <td>33</td>\n",
       "      <td>0</td>\n",
       "      <td>0</td>\n",
       "      <td>0</td>\n",
       "      <td>0</td>\n",
       "      <td>75</td>\n",
       "      <td>2</td>\n",
       "    </tr>\n",
       "    <tr>\n",
       "      <td>553</td>\n",
       "      <td>Catalão</td>\n",
       "      <td>36</td>\n",
       "      <td>5</td>\n",
       "      <td>101</td>\n",
       "      <td>3</td>\n",
       "      <td>2</td>\n",
       "      <td>0</td>\n",
       "      <td>0</td>\n",
       "      <td>36</td>\n",
       "      <td>68</td>\n",
       "      <td>...</td>\n",
       "      <td>0</td>\n",
       "      <td>1</td>\n",
       "      <td>45</td>\n",
       "      <td>92</td>\n",
       "      <td>0</td>\n",
       "      <td>0</td>\n",
       "      <td>0</td>\n",
       "      <td>13</td>\n",
       "      <td>13</td>\n",
       "      <td>28</td>\n",
       "    </tr>\n",
       "    <tr>\n",
       "      <td>554</td>\n",
       "      <td>Quirinópolis</td>\n",
       "      <td>442</td>\n",
       "      <td>0</td>\n",
       "      <td>195</td>\n",
       "      <td>22</td>\n",
       "      <td>0</td>\n",
       "      <td>0</td>\n",
       "      <td>0</td>\n",
       "      <td>270</td>\n",
       "      <td>0</td>\n",
       "      <td>...</td>\n",
       "      <td>145</td>\n",
       "      <td>0</td>\n",
       "      <td>5</td>\n",
       "      <td>11</td>\n",
       "      <td>0</td>\n",
       "      <td>0</td>\n",
       "      <td>0</td>\n",
       "      <td>0</td>\n",
       "      <td>8</td>\n",
       "      <td>7</td>\n",
       "    </tr>\n",
       "    <tr>\n",
       "      <td>555</td>\n",
       "      <td>Brasília</td>\n",
       "      <td>68</td>\n",
       "      <td>2231</td>\n",
       "      <td>495</td>\n",
       "      <td>141</td>\n",
       "      <td>9</td>\n",
       "      <td>59</td>\n",
       "      <td>47</td>\n",
       "      <td>0</td>\n",
       "      <td>0</td>\n",
       "      <td>...</td>\n",
       "      <td>4</td>\n",
       "      <td>152</td>\n",
       "      <td>174</td>\n",
       "      <td>274</td>\n",
       "      <td>0</td>\n",
       "      <td>1</td>\n",
       "      <td>51</td>\n",
       "      <td>26</td>\n",
       "      <td>75</td>\n",
       "      <td>583</td>\n",
       "    </tr>\n",
       "  </tbody>\n",
       "</table>\n",
       "<p>556 rows × 258 columns</p>\n",
       "</div>"
      ],
      "text/plain": [
       "        Microrregião  Abate de Reses, Exceto Suínos  \\\n",
       "0        Porto Velho                            396   \n",
       "1      Guajará-Mirim                             50   \n",
       "2          Ariquemes                            104   \n",
       "3          Ji-Paraná                           3659   \n",
       "4    Alvorada Doeste                            973   \n",
       "..               ...                            ...   \n",
       "551       Meia Ponte                            194   \n",
       "552     Pires do Rio                             39   \n",
       "553          Catalão                             36   \n",
       "554     Quirinópolis                            442   \n",
       "555         Brasília                             68   \n",
       "\n",
       "     Abate de Suínos, Aves e Outros Pequenos Animais  \\\n",
       "0                                                 14   \n",
       "1                                                  0   \n",
       "2                                                  2   \n",
       "3                                                 33   \n",
       "4                                                  0   \n",
       "..                                               ...   \n",
       "551                                              569   \n",
       "552                                             2833   \n",
       "553                                                5   \n",
       "554                                                0   \n",
       "555                                             2231   \n",
       "\n",
       "     Fabricação de Produtos de Carne  \\\n",
       "0                                117   \n",
       "1                                  0   \n",
       "2                                  3   \n",
       "3                                191   \n",
       "4                                  0   \n",
       "..                               ...   \n",
       "551                                9   \n",
       "552                              305   \n",
       "553                              101   \n",
       "554                              195   \n",
       "555                              495   \n",
       "\n",
       "     Preservação do Pescado e Fabricação de Produtos do Pescado  \\\n",
       "0                                                    2            \n",
       "1                                                    0            \n",
       "2                                                  232            \n",
       "3                                                    0            \n",
       "4                                                    0            \n",
       "..                                                 ...            \n",
       "551                                                  0            \n",
       "552                                                  0            \n",
       "553                                                  3            \n",
       "554                                                 22            \n",
       "555                                                141            \n",
       "\n",
       "     Fabricação de Conservas de Frutas  \\\n",
       "0                                   22   \n",
       "1                                    0   \n",
       "2                                    1   \n",
       "3                                   54   \n",
       "4                                    2   \n",
       "..                                 ...   \n",
       "551                                  6   \n",
       "552                                  0   \n",
       "553                                  2   \n",
       "554                                  0   \n",
       "555                                  9   \n",
       "\n",
       "     Fabricação de Conservas de Legumes e Outros Vegetais  \\\n",
       "0                                                    3      \n",
       "1                                                    0      \n",
       "2                                                    4      \n",
       "3                                                    0      \n",
       "4                                                    0      \n",
       "..                                                 ...      \n",
       "551                                                494      \n",
       "552                                                  0      \n",
       "553                                                  0      \n",
       "554                                                  0      \n",
       "555                                                 59      \n",
       "\n",
       "     Fabricação de Sucos de Frutas, Hortaliças e Legumes  \\\n",
       "0                                                   33     \n",
       "1                                                    0     \n",
       "2                                                    0     \n",
       "3                                                    0     \n",
       "4                                                    0     \n",
       "..                                                 ...     \n",
       "551                                                  2     \n",
       "552                                                  0     \n",
       "553                                                  0     \n",
       "554                                                  0     \n",
       "555                                                 47     \n",
       "\n",
       "     Fabricação de óleos Vegetais em Bruto, Exceto óleo de Milho  \\\n",
       "0                                                    0             \n",
       "1                                                    0             \n",
       "2                                                    0             \n",
       "3                                                   27             \n",
       "4                                                    0             \n",
       "..                                                 ...             \n",
       "551                                                257             \n",
       "552                                                145             \n",
       "553                                                 36             \n",
       "554                                                270             \n",
       "555                                                  0             \n",
       "\n",
       "     Fabricação de óleos Vegetais Refinados, Exceto óleo de Milho  ...  \\\n",
       "0                                                    0             ...   \n",
       "1                                                    0             ...   \n",
       "2                                                    0             ...   \n",
       "3                                                    0             ...   \n",
       "4                                                    0             ...   \n",
       "..                                                 ...             ...   \n",
       "551                                               1066             ...   \n",
       "552                                                  0             ...   \n",
       "553                                                 68             ...   \n",
       "554                                                  0             ...   \n",
       "555                                                  0             ...   \n",
       "\n",
       "     Manutenção e Reparação de Tanques, Reservatórios Metálicos e Caldeiras, Exceto para Veículos  \\\n",
       "0                                                    3                                              \n",
       "1                                                    0                                              \n",
       "2                                                    0                                              \n",
       "3                                                    3                                              \n",
       "4                                                    0                                              \n",
       "..                                                 ...                                              \n",
       "551                                                  1                                              \n",
       "552                                                  0                                              \n",
       "553                                                  0                                              \n",
       "554                                                145                                              \n",
       "555                                                  4                                              \n",
       "\n",
       "     Manutenção e Reparação de Equipamentos Eletrônicos e ópticos  \\\n",
       "0                                                   13              \n",
       "1                                                    0              \n",
       "2                                                    0              \n",
       "3                                                    7              \n",
       "4                                                    0              \n",
       "..                                                 ...              \n",
       "551                                                  0              \n",
       "552                                                  0              \n",
       "553                                                  1              \n",
       "554                                                  0              \n",
       "555                                                152              \n",
       "\n",
       "     Manutenção e Reparação de Máquinas e Equipamentos Elétricos  \\\n",
       "0                                                   38             \n",
       "1                                                    0             \n",
       "2                                                    4             \n",
       "3                                                   16             \n",
       "4                                                    0             \n",
       "..                                                 ...             \n",
       "551                                                 28             \n",
       "552                                                  1             \n",
       "553                                                 45             \n",
       "554                                                  5             \n",
       "555                                                174             \n",
       "\n",
       "     Manutenção e Reparação de Máquinas e Equipamentos da Indústria Mecânica  \\\n",
       "0                                                   79                         \n",
       "1                                                    1                         \n",
       "2                                                   21                         \n",
       "3                                                   67                         \n",
       "4                                                    0                         \n",
       "..                                                 ...                         \n",
       "551                                                132                         \n",
       "552                                                 33                         \n",
       "553                                                 92                         \n",
       "554                                                 11                         \n",
       "555                                                274                         \n",
       "\n",
       "     Manutenção e Reparação de Veículos Ferroviários  \\\n",
       "0                                                  3   \n",
       "1                                                  0   \n",
       "2                                                  0   \n",
       "3                                                  0   \n",
       "4                                                  0   \n",
       "..                                               ...   \n",
       "551                                                0   \n",
       "552                                                0   \n",
       "553                                                0   \n",
       "554                                                0   \n",
       "555                                                0   \n",
       "\n",
       "     Manutenção e Reparação de Aeronaves  \\\n",
       "0                                      0   \n",
       "1                                      0   \n",
       "2                                      0   \n",
       "3                                      0   \n",
       "4                                      0   \n",
       "..                                   ...   \n",
       "551                                    0   \n",
       "552                                    0   \n",
       "553                                    0   \n",
       "554                                    0   \n",
       "555                                    1   \n",
       "\n",
       "     Manutenção e Reparação de Embarcações  \\\n",
       "0                                        2   \n",
       "1                                        0   \n",
       "2                                        0   \n",
       "3                                        0   \n",
       "4                                        0   \n",
       "..                                     ...   \n",
       "551                                      5   \n",
       "552                                      0   \n",
       "553                                      0   \n",
       "554                                      0   \n",
       "555                                     51   \n",
       "\n",
       "     Manutenção e Reparação de Equipamentos e Produtos não Especificados Anteriormente  \\\n",
       "0                                                    3                                   \n",
       "1                                                    0                                   \n",
       "2                                                    0                                   \n",
       "3                                                    1                                   \n",
       "4                                                    0                                   \n",
       "..                                                 ...                                   \n",
       "551                                                 16                                   \n",
       "552                                                  0                                   \n",
       "553                                                 13                                   \n",
       "554                                                  0                                   \n",
       "555                                                 26                                   \n",
       "\n",
       "     Instalação de Máquinas e Equipamentos Industriais  \\\n",
       "0                                                   41   \n",
       "1                                                    0   \n",
       "2                                                    1   \n",
       "3                                                    6   \n",
       "4                                                    0   \n",
       "..                                                 ...   \n",
       "551                                                147   \n",
       "552                                                 75   \n",
       "553                                                 13   \n",
       "554                                                  8   \n",
       "555                                                 75   \n",
       "\n",
       "     Instalação de Equipamentos não Especificados Anteriormente  \n",
       "0                                                   25           \n",
       "1                                                    0           \n",
       "2                                                   18           \n",
       "3                                                   14           \n",
       "4                                                    0           \n",
       "..                                                 ...           \n",
       "551                                                 22           \n",
       "552                                                  2           \n",
       "553                                                 28           \n",
       "554                                                  7           \n",
       "555                                                583           \n",
       "\n",
       "[556 rows x 258 columns]"
      ]
     },
     "execution_count": 50,
     "metadata": {},
     "output_type": "execute_result"
    }
   ],
   "source": [
    "#Carregar valores totais\n",
    "\n",
    "datamicro2=pd.read_excel(r'C:\\Users\\joaov\\Downloads\\TOTALEMPREGO2018MUN.xlsx')\n",
    "datamicro2"
   ]
  },
  {
   "cell_type": "code",
   "execution_count": 51,
   "metadata": {},
   "outputs": [
    {
     "data": {
      "text/plain": [
       "Abate de Reses, Exceto Suínos                                                        133779\n",
       "Abate de Suínos, Aves e Outros Pequenos Animais                                      284848\n",
       "Fabricação de Produtos de Carne                                                       65197\n",
       "Preservação do Pescado e Fabricação de Produtos do Pescado                            18553\n",
       "Fabricação de Conservas de Frutas                                                     23461\n",
       "                                                                                      ...  \n",
       "Manutenção e Reparação de Aeronaves                                                    6480\n",
       "Manutenção e Reparação de Embarcações                                                  5484\n",
       "Manutenção e Reparação de Equipamentos e Produtos não Especificados Anteriormente      7571\n",
       "Instalação de Máquinas e Equipamentos Industriais                                     26466\n",
       "Instalação de Equipamentos não Especificados Anteriormente                            13477\n",
       "Length: 257, dtype: int64"
      ]
     },
     "execution_count": 51,
     "metadata": {},
     "output_type": "execute_result"
    }
   ],
   "source": [
    "#calculo soma por atividade em industria de transformação no Brasil\n",
    "datamicro2.drop('Microrregião',axis=1).sum()"
   ]
  },
  {
   "cell_type": "code",
   "execution_count": 52,
   "metadata": {},
   "outputs": [
    {
     "data": {
      "text/plain": [
       "6741497"
      ]
     },
     "execution_count": 52,
     "metadata": {},
     "output_type": "execute_result"
    }
   ],
   "source": [
    "#calculo soma total das atividades em industria de transformação no Brasil\n",
    "total=datamicro2.drop('Microrregião',axis=1).sum().sum()\n",
    "total"
   ]
  },
  {
   "cell_type": "code",
   "execution_count": 53,
   "metadata": {},
   "outputs": [
    {
     "data": {
      "text/html": [
       "<div>\n",
       "<style scoped>\n",
       "    .dataframe tbody tr th:only-of-type {\n",
       "        vertical-align: middle;\n",
       "    }\n",
       "\n",
       "    .dataframe tbody tr th {\n",
       "        vertical-align: top;\n",
       "    }\n",
       "\n",
       "    .dataframe thead th {\n",
       "        text-align: right;\n",
       "    }\n",
       "</style>\n",
       "<table border=\"1\" class=\"dataframe\">\n",
       "  <thead>\n",
       "    <tr style=\"text-align: right;\">\n",
       "      <th></th>\n",
       "      <th>0</th>\n",
       "      <th>1</th>\n",
       "      <th>2</th>\n",
       "      <th>3</th>\n",
       "      <th>4</th>\n",
       "      <th>5</th>\n",
       "      <th>6</th>\n",
       "      <th>7</th>\n",
       "      <th>8</th>\n",
       "      <th>9</th>\n",
       "      <th>...</th>\n",
       "      <th>247</th>\n",
       "      <th>248</th>\n",
       "      <th>249</th>\n",
       "      <th>250</th>\n",
       "      <th>251</th>\n",
       "      <th>252</th>\n",
       "      <th>253</th>\n",
       "      <th>254</th>\n",
       "      <th>255</th>\n",
       "      <th>256</th>\n",
       "    </tr>\n",
       "    <tr>\n",
       "      <th>Microrregião</th>\n",
       "      <th></th>\n",
       "      <th></th>\n",
       "      <th></th>\n",
       "      <th></th>\n",
       "      <th></th>\n",
       "      <th></th>\n",
       "      <th></th>\n",
       "      <th></th>\n",
       "      <th></th>\n",
       "      <th></th>\n",
       "      <th></th>\n",
       "      <th></th>\n",
       "      <th></th>\n",
       "      <th></th>\n",
       "      <th></th>\n",
       "      <th></th>\n",
       "      <th></th>\n",
       "      <th></th>\n",
       "      <th></th>\n",
       "      <th></th>\n",
       "      <th></th>\n",
       "    </tr>\n",
       "  </thead>\n",
       "  <tbody>\n",
       "    <tr>\n",
       "      <td>Porto Velho</td>\n",
       "      <td>396</td>\n",
       "      <td>14</td>\n",
       "      <td>117</td>\n",
       "      <td>2</td>\n",
       "      <td>22</td>\n",
       "      <td>3</td>\n",
       "      <td>33</td>\n",
       "      <td>0</td>\n",
       "      <td>0</td>\n",
       "      <td>0</td>\n",
       "      <td>...</td>\n",
       "      <td>3</td>\n",
       "      <td>13</td>\n",
       "      <td>38</td>\n",
       "      <td>79</td>\n",
       "      <td>3</td>\n",
       "      <td>0</td>\n",
       "      <td>2</td>\n",
       "      <td>3</td>\n",
       "      <td>41</td>\n",
       "      <td>25</td>\n",
       "    </tr>\n",
       "    <tr>\n",
       "      <td>Guajará-Mirim</td>\n",
       "      <td>50</td>\n",
       "      <td>0</td>\n",
       "      <td>0</td>\n",
       "      <td>0</td>\n",
       "      <td>0</td>\n",
       "      <td>0</td>\n",
       "      <td>0</td>\n",
       "      <td>0</td>\n",
       "      <td>0</td>\n",
       "      <td>0</td>\n",
       "      <td>...</td>\n",
       "      <td>0</td>\n",
       "      <td>0</td>\n",
       "      <td>0</td>\n",
       "      <td>1</td>\n",
       "      <td>0</td>\n",
       "      <td>0</td>\n",
       "      <td>0</td>\n",
       "      <td>0</td>\n",
       "      <td>0</td>\n",
       "      <td>0</td>\n",
       "    </tr>\n",
       "    <tr>\n",
       "      <td>Ariquemes</td>\n",
       "      <td>104</td>\n",
       "      <td>2</td>\n",
       "      <td>3</td>\n",
       "      <td>232</td>\n",
       "      <td>1</td>\n",
       "      <td>4</td>\n",
       "      <td>0</td>\n",
       "      <td>0</td>\n",
       "      <td>0</td>\n",
       "      <td>0</td>\n",
       "      <td>...</td>\n",
       "      <td>0</td>\n",
       "      <td>0</td>\n",
       "      <td>4</td>\n",
       "      <td>21</td>\n",
       "      <td>0</td>\n",
       "      <td>0</td>\n",
       "      <td>0</td>\n",
       "      <td>0</td>\n",
       "      <td>1</td>\n",
       "      <td>18</td>\n",
       "    </tr>\n",
       "    <tr>\n",
       "      <td>Ji-Paraná</td>\n",
       "      <td>3659</td>\n",
       "      <td>33</td>\n",
       "      <td>191</td>\n",
       "      <td>0</td>\n",
       "      <td>54</td>\n",
       "      <td>0</td>\n",
       "      <td>0</td>\n",
       "      <td>27</td>\n",
       "      <td>0</td>\n",
       "      <td>0</td>\n",
       "      <td>...</td>\n",
       "      <td>3</td>\n",
       "      <td>7</td>\n",
       "      <td>16</td>\n",
       "      <td>67</td>\n",
       "      <td>0</td>\n",
       "      <td>0</td>\n",
       "      <td>0</td>\n",
       "      <td>1</td>\n",
       "      <td>6</td>\n",
       "      <td>14</td>\n",
       "    </tr>\n",
       "    <tr>\n",
       "      <td>Alvorada Doeste</td>\n",
       "      <td>973</td>\n",
       "      <td>0</td>\n",
       "      <td>0</td>\n",
       "      <td>0</td>\n",
       "      <td>2</td>\n",
       "      <td>0</td>\n",
       "      <td>0</td>\n",
       "      <td>0</td>\n",
       "      <td>0</td>\n",
       "      <td>0</td>\n",
       "      <td>...</td>\n",
       "      <td>0</td>\n",
       "      <td>0</td>\n",
       "      <td>0</td>\n",
       "      <td>0</td>\n",
       "      <td>0</td>\n",
       "      <td>0</td>\n",
       "      <td>0</td>\n",
       "      <td>0</td>\n",
       "      <td>0</td>\n",
       "      <td>0</td>\n",
       "    </tr>\n",
       "    <tr>\n",
       "      <td>...</td>\n",
       "      <td>...</td>\n",
       "      <td>...</td>\n",
       "      <td>...</td>\n",
       "      <td>...</td>\n",
       "      <td>...</td>\n",
       "      <td>...</td>\n",
       "      <td>...</td>\n",
       "      <td>...</td>\n",
       "      <td>...</td>\n",
       "      <td>...</td>\n",
       "      <td>...</td>\n",
       "      <td>...</td>\n",
       "      <td>...</td>\n",
       "      <td>...</td>\n",
       "      <td>...</td>\n",
       "      <td>...</td>\n",
       "      <td>...</td>\n",
       "      <td>...</td>\n",
       "      <td>...</td>\n",
       "      <td>...</td>\n",
       "      <td>...</td>\n",
       "    </tr>\n",
       "    <tr>\n",
       "      <td>Meia Ponte</td>\n",
       "      <td>194</td>\n",
       "      <td>569</td>\n",
       "      <td>9</td>\n",
       "      <td>0</td>\n",
       "      <td>6</td>\n",
       "      <td>494</td>\n",
       "      <td>2</td>\n",
       "      <td>257</td>\n",
       "      <td>1066</td>\n",
       "      <td>142</td>\n",
       "      <td>...</td>\n",
       "      <td>1</td>\n",
       "      <td>0</td>\n",
       "      <td>28</td>\n",
       "      <td>132</td>\n",
       "      <td>0</td>\n",
       "      <td>0</td>\n",
       "      <td>5</td>\n",
       "      <td>16</td>\n",
       "      <td>147</td>\n",
       "      <td>22</td>\n",
       "    </tr>\n",
       "    <tr>\n",
       "      <td>Pires do Rio</td>\n",
       "      <td>39</td>\n",
       "      <td>2833</td>\n",
       "      <td>305</td>\n",
       "      <td>0</td>\n",
       "      <td>0</td>\n",
       "      <td>0</td>\n",
       "      <td>0</td>\n",
       "      <td>145</td>\n",
       "      <td>0</td>\n",
       "      <td>0</td>\n",
       "      <td>...</td>\n",
       "      <td>0</td>\n",
       "      <td>0</td>\n",
       "      <td>1</td>\n",
       "      <td>33</td>\n",
       "      <td>0</td>\n",
       "      <td>0</td>\n",
       "      <td>0</td>\n",
       "      <td>0</td>\n",
       "      <td>75</td>\n",
       "      <td>2</td>\n",
       "    </tr>\n",
       "    <tr>\n",
       "      <td>Catalão</td>\n",
       "      <td>36</td>\n",
       "      <td>5</td>\n",
       "      <td>101</td>\n",
       "      <td>3</td>\n",
       "      <td>2</td>\n",
       "      <td>0</td>\n",
       "      <td>0</td>\n",
       "      <td>36</td>\n",
       "      <td>68</td>\n",
       "      <td>0</td>\n",
       "      <td>...</td>\n",
       "      <td>0</td>\n",
       "      <td>1</td>\n",
       "      <td>45</td>\n",
       "      <td>92</td>\n",
       "      <td>0</td>\n",
       "      <td>0</td>\n",
       "      <td>0</td>\n",
       "      <td>13</td>\n",
       "      <td>13</td>\n",
       "      <td>28</td>\n",
       "    </tr>\n",
       "    <tr>\n",
       "      <td>Quirinópolis</td>\n",
       "      <td>442</td>\n",
       "      <td>0</td>\n",
       "      <td>195</td>\n",
       "      <td>22</td>\n",
       "      <td>0</td>\n",
       "      <td>0</td>\n",
       "      <td>0</td>\n",
       "      <td>270</td>\n",
       "      <td>0</td>\n",
       "      <td>0</td>\n",
       "      <td>...</td>\n",
       "      <td>145</td>\n",
       "      <td>0</td>\n",
       "      <td>5</td>\n",
       "      <td>11</td>\n",
       "      <td>0</td>\n",
       "      <td>0</td>\n",
       "      <td>0</td>\n",
       "      <td>0</td>\n",
       "      <td>8</td>\n",
       "      <td>7</td>\n",
       "    </tr>\n",
       "    <tr>\n",
       "      <td>Brasília</td>\n",
       "      <td>68</td>\n",
       "      <td>2231</td>\n",
       "      <td>495</td>\n",
       "      <td>141</td>\n",
       "      <td>9</td>\n",
       "      <td>59</td>\n",
       "      <td>47</td>\n",
       "      <td>0</td>\n",
       "      <td>0</td>\n",
       "      <td>0</td>\n",
       "      <td>...</td>\n",
       "      <td>4</td>\n",
       "      <td>152</td>\n",
       "      <td>174</td>\n",
       "      <td>274</td>\n",
       "      <td>0</td>\n",
       "      <td>1</td>\n",
       "      <td>51</td>\n",
       "      <td>26</td>\n",
       "      <td>75</td>\n",
       "      <td>583</td>\n",
       "    </tr>\n",
       "  </tbody>\n",
       "</table>\n",
       "<p>556 rows × 257 columns</p>\n",
       "</div>"
      ],
      "text/plain": [
       "                  0     1    2    3    4    5    6    7     8    9    ...  \\\n",
       "Microrregião                                                          ...   \n",
       "Porto Velho       396    14  117    2   22    3   33    0     0    0  ...   \n",
       "Guajará-Mirim      50     0    0    0    0    0    0    0     0    0  ...   \n",
       "Ariquemes         104     2    3  232    1    4    0    0     0    0  ...   \n",
       "Ji-Paraná        3659    33  191    0   54    0    0   27     0    0  ...   \n",
       "Alvorada Doeste   973     0    0    0    2    0    0    0     0    0  ...   \n",
       "...               ...   ...  ...  ...  ...  ...  ...  ...   ...  ...  ...   \n",
       "Meia Ponte        194   569    9    0    6  494    2  257  1066  142  ...   \n",
       "Pires do Rio       39  2833  305    0    0    0    0  145     0    0  ...   \n",
       "Catalão            36     5  101    3    2    0    0   36    68    0  ...   \n",
       "Quirinópolis      442     0  195   22    0    0    0  270     0    0  ...   \n",
       "Brasília           68  2231  495  141    9   59   47    0     0    0  ...   \n",
       "\n",
       "                 247  248  249  250  251  252  253  254  255  256  \n",
       "Microrregião                                                       \n",
       "Porto Velho        3   13   38   79    3    0    2    3   41   25  \n",
       "Guajará-Mirim      0    0    0    1    0    0    0    0    0    0  \n",
       "Ariquemes          0    0    4   21    0    0    0    0    1   18  \n",
       "Ji-Paraná          3    7   16   67    0    0    0    1    6   14  \n",
       "Alvorada Doeste    0    0    0    0    0    0    0    0    0    0  \n",
       "...              ...  ...  ...  ...  ...  ...  ...  ...  ...  ...  \n",
       "Meia Ponte         1    0   28  132    0    0    5   16  147   22  \n",
       "Pires do Rio       0    0    1   33    0    0    0    0   75    2  \n",
       "Catalão            0    1   45   92    0    0    0   13   13   28  \n",
       "Quirinópolis     145    0    5   11    0    0    0    0    8    7  \n",
       "Brasília           4  152  174  274    0    1   51   26   75  583  \n",
       "\n",
       "[556 rows x 257 columns]"
      ]
     },
     "execution_count": 53,
     "metadata": {},
     "output_type": "execute_result"
    }
   ],
   "source": [
    "#Cálculo de quociente locacional\n",
    "data2mod=pd.DataFrame(datamicro2.drop('Microrregião',axis=1).values,index=datamicro2['Microrregião'])\n",
    "data2mod\n"
   ]
  },
  {
   "cell_type": "code",
   "execution_count": 54,
   "metadata": {},
   "outputs": [
    {
     "data": {
      "text/plain": [
       "Microrregião\n",
       "Porto Velho         5979\n",
       "Guajará-Mirim        294\n",
       "Ariquemes           3066\n",
       "Ji-Paraná           9647\n",
       "Alvorada Doeste     1233\n",
       "                   ...  \n",
       "Meia Ponte         16170\n",
       "Pires do Rio        4806\n",
       "Catalão             8745\n",
       "Quirinópolis        7857\n",
       "Brasília           25972\n",
       "Length: 556, dtype: int64"
      ]
     },
     "execution_count": 54,
     "metadata": {},
     "output_type": "execute_result"
    }
   ],
   "source": [
    "#calculo soma total das atividades em industria de transformação por microrregião\n",
    "matriz=data2mod.T.sum()\n",
    "matriz  #Serie"
   ]
  },
  {
   "cell_type": "markdown",
   "metadata": {},
   "source": [
    "<h2>CÁLCULO QL<h2>"
   ]
  },
  {
   "cell_type": "code",
   "execution_count": 55,
   "metadata": {},
   "outputs": [
    {
     "data": {
      "text/plain": [
       "<matplotlib.axes._subplots.AxesSubplot at 0x1ca6d13f808>"
      ]
     },
     "execution_count": 55,
     "metadata": {},
     "output_type": "execute_result"
    },
    {
     "data": {
      "image/png": "[encoded data removed]",
      "text/plain": [
       "<Figure size 432x288 with 1 Axes>"
      ]
     },
     "metadata": {
      "needs_background": "light"
     },
     "output_type": "display_data"
    }
   ],
   "source": [
    "#total =================>calculo soma total das atividades em industria de transformação no Brasil\n",
    "#A1.sum()===============>soma da atividade industrial 1 no brasil\n",
    "#matriz[micro]  ===============>emprego industrial (transformação) total na micorregião \n",
    "#\n",
    "\n",
    "dataquoc=pd.DataFrame()\n",
    "for micro in matrixmicro:\n",
    "    quociente=((A1.loc[micro]/matriz[micro])/(A1.sum()/total))\n",
    "    dataquoc[micro]=quociente\n",
    "\n",
    "dataquoc=dataquoc.T\n",
    "dataquoc.columns=['QLs']\n",
    "\n",
    "sns.heatmap(dataquoc>1,cbar=False) #Tentar visualizar se existem Microrregioes com QL>1 --> existem"
   ]
  },
  {
   "cell_type": "code",
   "execution_count": 56,
   "metadata": {
    "scrolled": true
   },
   "outputs": [
    {
     "data": {
      "text/html": [
       "<div>\n",
       "<style scoped>\n",
       "    .dataframe tbody tr th:only-of-type {\n",
       "        vertical-align: middle;\n",
       "    }\n",
       "\n",
       "    .dataframe tbody tr th {\n",
       "        vertical-align: top;\n",
       "    }\n",
       "\n",
       "    .dataframe thead th {\n",
       "        text-align: right;\n",
       "    }\n",
       "</style>\n",
       "<table border=\"1\" class=\"dataframe\">\n",
       "  <thead>\n",
       "    <tr style=\"text-align: right;\">\n",
       "      <th></th>\n",
       "      <th>Porto Velho</th>\n",
       "      <th>Ariquemes</th>\n",
       "      <th>Ji-Paraná</th>\n",
       "      <th>Vilhena</th>\n",
       "      <th>Rio Branco</th>\n",
       "      <th>Manaus</th>\n",
       "      <th>Belém</th>\n",
       "      <th>Castanhal</th>\n",
       "      <th>Parauapebas</th>\n",
       "      <th>Redenção</th>\n",
       "      <th>...</th>\n",
       "      <th>Cuiabá</th>\n",
       "      <th>Primavera do Leste</th>\n",
       "      <th>Rondonópolis</th>\n",
       "      <th>Rio Vermelho</th>\n",
       "      <th>Anápolis</th>\n",
       "      <th>Goiânia</th>\n",
       "      <th>Entorno de Brasília</th>\n",
       "      <th>Sudoeste de Goiás</th>\n",
       "      <th>Meia Ponte</th>\n",
       "      <th>Brasília</th>\n",
       "    </tr>\n",
       "  </thead>\n",
       "  <tbody>\n",
       "    <tr>\n",
       "      <td>QLs</td>\n",
       "      <td>0.0</td>\n",
       "      <td>0.0</td>\n",
       "      <td>0.559474</td>\n",
       "      <td>0.312244</td>\n",
       "      <td>0.672638</td>\n",
       "      <td>0.29068</td>\n",
       "      <td>0.288047</td>\n",
       "      <td>0.159023</td>\n",
       "      <td>0.34896</td>\n",
       "      <td>0.0</td>\n",
       "      <td>...</td>\n",
       "      <td>1.181873</td>\n",
       "      <td>0.341655</td>\n",
       "      <td>0.087991</td>\n",
       "      <td>0.18383</td>\n",
       "      <td>0.135891</td>\n",
       "      <td>0.800278</td>\n",
       "      <td>0.336554</td>\n",
       "      <td>0.102247</td>\n",
       "      <td>0.0</td>\n",
       "      <td>0.792276</td>\n",
       "    </tr>\n",
       "  </tbody>\n",
       "</table>\n",
       "<p>1 rows × 166 columns</p>\n",
       "</div>"
      ],
      "text/plain": [
       "     Porto Velho  Ariquemes  Ji-Paraná   Vilhena  Rio Branco   Manaus  \\\n",
       "QLs          0.0        0.0   0.559474  0.312244    0.672638  0.29068   \n",
       "\n",
       "        Belém  Castanhal  Parauapebas  Redenção  ...    Cuiabá  \\\n",
       "QLs  0.288047   0.159023      0.34896       0.0  ...  1.181873   \n",
       "\n",
       "     Primavera do Leste  Rondonópolis  Rio Vermelho  Anápolis   Goiânia  \\\n",
       "QLs            0.341655      0.087991       0.18383  0.135891  0.800278   \n",
       "\n",
       "     Entorno de Brasília  Sudoeste de Goiás  Meia Ponte  Brasília  \n",
       "QLs             0.336554           0.102247         0.0  0.792276  \n",
       "\n",
       "[1 rows x 166 columns]"
      ]
     },
     "execution_count": 56,
     "metadata": {},
     "output_type": "execute_result"
    }
   ],
   "source": [
    "\n",
    "#dataquoc=dataquoc[dataquoc['QLs']>1]\n",
    "dataquoc.T\n",
    "#QLS >1:\n",
    "backupquoc=dataquoc\n",
    "dataquoc.T"
   ]
  },
  {
   "cell_type": "markdown",
   "metadata": {},
   "source": [
    "<h2>CÁLCULO PR<h2>"
   ]
  },
  {
   "cell_type": "code",
   "execution_count": 57,
   "metadata": {},
   "outputs": [],
   "source": [
    "#PARTICIPAÇÃO RELATIVA\n",
    "#PR\n",
    "\n",
    "#total =================>calculo soma total das atividades em industria de transformação no Brasil\n",
    "#A1.sum()===============>soma da atividade industrial 1 no brasil\n",
    "\n",
    "\n",
    "dataPR=pd.DataFrame()\n",
    "for micro in matrixmicro:\n",
    "    PR=A1.loc[micro]/total\n",
    "    dataPR[micro]=PR\n",
    "\n",
    "dataPR=dataPR*100    #PORCENTAGEM\n",
    "\n",
    "dataPR.index=['PR']\n",
    "dataPR=dataPR.T\n",
    "dataPR\n",
    "backupPR=dataPR\n"
   ]
  },
  {
   "cell_type": "code",
   "execution_count": 58,
   "metadata": {},
   "outputs": [
    {
     "data": {
      "text/plain": [
       "<matplotlib.axes._subplots.AxesSubplot at 0x1ca6d120148>"
      ]
     },
     "execution_count": 58,
     "metadata": {},
     "output_type": "execute_result"
    },
    {
     "data": {
      "image/png": "[encoded data removed]",
      "text/plain": [
       "<Figure size 432x288 with 1 Axes>"
      ]
     },
     "metadata": {
      "needs_background": "light"
     },
     "output_type": "display_data"
    }
   ],
   "source": [
    "sns.heatmap(dataPR>0.01,cbar=False)"
   ]
  },
  {
   "cell_type": "code",
   "execution_count": 59,
   "metadata": {},
   "outputs": [
    {
     "data": {
      "text/html": [
       "<div>\n",
       "<style scoped>\n",
       "    .dataframe tbody tr th:only-of-type {\n",
       "        vertical-align: middle;\n",
       "    }\n",
       "\n",
       "    .dataframe tbody tr th {\n",
       "        vertical-align: top;\n",
       "    }\n",
       "\n",
       "    .dataframe thead th {\n",
       "        text-align: right;\n",
       "    }\n",
       "</style>\n",
       "<table border=\"1\" class=\"dataframe\">\n",
       "  <thead>\n",
       "    <tr style=\"text-align: right;\">\n",
       "      <th></th>\n",
       "      <th>Porto Velho</th>\n",
       "      <th>Ariquemes</th>\n",
       "      <th>Ji-Paraná</th>\n",
       "      <th>Vilhena</th>\n",
       "      <th>Rio Branco</th>\n",
       "      <th>Manaus</th>\n",
       "      <th>Belém</th>\n",
       "      <th>Castanhal</th>\n",
       "      <th>Parauapebas</th>\n",
       "      <th>Redenção</th>\n",
       "      <th>...</th>\n",
       "      <th>Cuiabá</th>\n",
       "      <th>Primavera do Leste</th>\n",
       "      <th>Rondonópolis</th>\n",
       "      <th>Rio Vermelho</th>\n",
       "      <th>Anápolis</th>\n",
       "      <th>Goiânia</th>\n",
       "      <th>Entorno de Brasília</th>\n",
       "      <th>Sudoeste de Goiás</th>\n",
       "      <th>Meia Ponte</th>\n",
       "      <th>Brasília</th>\n",
       "    </tr>\n",
       "  </thead>\n",
       "  <tbody>\n",
       "    <tr>\n",
       "      <td>PR</td>\n",
       "      <td>0.0</td>\n",
       "      <td>0.0</td>\n",
       "      <td>0.000237</td>\n",
       "      <td>0.000089</td>\n",
       "      <td>0.000119</td>\n",
       "      <td>0.001113</td>\n",
       "      <td>0.000341</td>\n",
       "      <td>0.000059</td>\n",
       "      <td>0.000045</td>\n",
       "      <td>0.0</td>\n",
       "      <td>...</td>\n",
       "      <td>0.000994</td>\n",
       "      <td>0.000045</td>\n",
       "      <td>0.000045</td>\n",
       "      <td>0.000015</td>\n",
       "      <td>0.000223</td>\n",
       "      <td>0.002744</td>\n",
       "      <td>0.000148</td>\n",
       "      <td>0.000104</td>\n",
       "      <td>0.0</td>\n",
       "      <td>0.000905</td>\n",
       "    </tr>\n",
       "  </tbody>\n",
       "</table>\n",
       "<p>1 rows × 166 columns</p>\n",
       "</div>"
      ],
      "text/plain": [
       "    Porto Velho  Ariquemes  Ji-Paraná   Vilhena  Rio Branco    Manaus  \\\n",
       "PR          0.0        0.0   0.000237  0.000089    0.000119  0.001113   \n",
       "\n",
       "       Belém  Castanhal  Parauapebas  Redenção  ...    Cuiabá  \\\n",
       "PR  0.000341   0.000059     0.000045       0.0  ...  0.000994   \n",
       "\n",
       "    Primavera do Leste  Rondonópolis  Rio Vermelho  Anápolis   Goiânia  \\\n",
       "PR            0.000045      0.000045      0.000015  0.000223  0.002744   \n",
       "\n",
       "    Entorno de Brasília  Sudoeste de Goiás  Meia Ponte  Brasília  \n",
       "PR             0.000148           0.000104         0.0  0.000905  \n",
       "\n",
       "[1 rows x 166 columns]"
      ]
     },
     "execution_count": 59,
     "metadata": {},
     "output_type": "execute_result"
    }
   ],
   "source": [
    "#fazer backup para uso futuro\n",
    "#dataPR=dataPR[dataPR['PR']>0.01]\n",
    "dataPR.T\n",
    "#PR's>1:"
   ]
  },
  {
   "cell_type": "markdown",
   "metadata": {},
   "source": [
    "<h2>Cálculo Hirschman-Herfindahl modificado <h2>"
   ]
  },
  {
   "cell_type": "code",
   "execution_count": 60,
   "metadata": {},
   "outputs": [
    {
     "data": {
      "text/plain": [
       "<matplotlib.axes._subplots.AxesSubplot at 0x1ca6cc876c8>"
      ]
     },
     "execution_count": 60,
     "metadata": {},
     "output_type": "execute_result"
    },
    {
     "data": {
      "image/png": "[encoded data removed]",
      "text/plain": [
       "<Figure size 432x288 with 1 Axes>"
      ]
     },
     "metadata": {
      "needs_background": "light"
     },
     "output_type": "display_data"
    }
   ],
   "source": [
    "dataHirs=pd.DataFrame()\n",
    "\n",
    "for micro in matrixmicro:\n",
    "    hirs=(A1.loc[micro]/matriz[micro])-(A1.sum()/total)\n",
    "    dataHirs[micro]=hirs\n",
    "\n",
    "dataHirs=dataHirs.T\n",
    "dataHirs.columns=['Hirs']\n",
    "sns.heatmap(dataHirs>0,cbar=False)\n",
    "\n",
    "\n",
    "#Tentar visualizar se existem Microrregioes com Hirschman-Herfindahl >0  --> existem"
   ]
  },
  {
   "cell_type": "code",
   "execution_count": 61,
   "metadata": {},
   "outputs": [],
   "source": [
    "#dataHirs=dataHirs[dataHirs['Hirs']>0]\n",
    "dataHirs.T\n",
    "backupHirs=dataHirs"
   ]
  },
  {
   "cell_type": "markdown",
   "metadata": {},
   "source": [
    "<h1>PCA ---ANÁLISE DE COMPONENTES PRINCIPAIS--- PARA ATIVIDADE 1:Fabricação de Máquinas e Aparelhos de Refrigeração e Ventilação para Uso Industrial e Comercial, Peças e Acessórios<h1>"
   ]
  },
  {
   "cell_type": "markdown",
   "metadata": {},
   "source": [
    "<h3> AJUSTANDO DADOS DE BACKUP EM DATAFRAME(VALORES DE QL,PR,HIRS) <h3>\n",
    "   "
   ]
  },
  {
   "cell_type": "code",
   "execution_count": 62,
   "metadata": {},
   "outputs": [
    {
     "data": {
      "text/html": [
       "<div>\n",
       "<style scoped>\n",
       "    .dataframe tbody tr th:only-of-type {\n",
       "        vertical-align: middle;\n",
       "    }\n",
       "\n",
       "    .dataframe tbody tr th {\n",
       "        vertical-align: top;\n",
       "    }\n",
       "\n",
       "    .dataframe thead th {\n",
       "        text-align: right;\n",
       "    }\n",
       "</style>\n",
       "<table border=\"1\" class=\"dataframe\">\n",
       "  <thead>\n",
       "    <tr style=\"text-align: right;\">\n",
       "      <th></th>\n",
       "      <th>Hirs</th>\n",
       "      <th>QLs</th>\n",
       "      <th>PR</th>\n",
       "    </tr>\n",
       "  </thead>\n",
       "  <tbody>\n",
       "    <tr>\n",
       "      <td>Porto Velho</td>\n",
       "      <td>-0.002964</td>\n",
       "      <td>0.000000</td>\n",
       "      <td>0.000000</td>\n",
       "    </tr>\n",
       "    <tr>\n",
       "      <td>Ariquemes</td>\n",
       "      <td>-0.002964</td>\n",
       "      <td>0.000000</td>\n",
       "      <td>0.000000</td>\n",
       "    </tr>\n",
       "    <tr>\n",
       "      <td>Ji-Paraná</td>\n",
       "      <td>-0.001306</td>\n",
       "      <td>0.559474</td>\n",
       "      <td>0.000237</td>\n",
       "    </tr>\n",
       "    <tr>\n",
       "      <td>Vilhena</td>\n",
       "      <td>-0.002039</td>\n",
       "      <td>0.312244</td>\n",
       "      <td>0.000089</td>\n",
       "    </tr>\n",
       "    <tr>\n",
       "      <td>Rio Branco</td>\n",
       "      <td>-0.000970</td>\n",
       "      <td>0.672638</td>\n",
       "      <td>0.000119</td>\n",
       "    </tr>\n",
       "    <tr>\n",
       "      <td>...</td>\n",
       "      <td>...</td>\n",
       "      <td>...</td>\n",
       "      <td>...</td>\n",
       "    </tr>\n",
       "    <tr>\n",
       "      <td>Goiânia</td>\n",
       "      <td>-0.000592</td>\n",
       "      <td>0.800278</td>\n",
       "      <td>0.002744</td>\n",
       "    </tr>\n",
       "    <tr>\n",
       "      <td>Entorno de Brasília</td>\n",
       "      <td>-0.001967</td>\n",
       "      <td>0.336554</td>\n",
       "      <td>0.000148</td>\n",
       "    </tr>\n",
       "    <tr>\n",
       "      <td>Sudoeste de Goiás</td>\n",
       "      <td>-0.002661</td>\n",
       "      <td>0.102247</td>\n",
       "      <td>0.000104</td>\n",
       "    </tr>\n",
       "    <tr>\n",
       "      <td>Meia Ponte</td>\n",
       "      <td>-0.002964</td>\n",
       "      <td>0.000000</td>\n",
       "      <td>0.000000</td>\n",
       "    </tr>\n",
       "    <tr>\n",
       "      <td>Brasília</td>\n",
       "      <td>-0.000616</td>\n",
       "      <td>0.792276</td>\n",
       "      <td>0.000905</td>\n",
       "    </tr>\n",
       "  </tbody>\n",
       "</table>\n",
       "<p>166 rows × 3 columns</p>\n",
       "</div>"
      ],
      "text/plain": [
       "                         Hirs       QLs        PR\n",
       "Porto Velho         -0.002964  0.000000  0.000000\n",
       "Ariquemes           -0.002964  0.000000  0.000000\n",
       "Ji-Paraná           -0.001306  0.559474  0.000237\n",
       "Vilhena             -0.002039  0.312244  0.000089\n",
       "Rio Branco          -0.000970  0.672638  0.000119\n",
       "...                       ...       ...       ...\n",
       "Goiânia             -0.000592  0.800278  0.002744\n",
       "Entorno de Brasília -0.001967  0.336554  0.000148\n",
       "Sudoeste de Goiás   -0.002661  0.102247  0.000104\n",
       "Meia Ponte          -0.002964  0.000000  0.000000\n",
       "Brasília            -0.000616  0.792276  0.000905\n",
       "\n",
       "[166 rows x 3 columns]"
      ]
     },
     "execution_count": 62,
     "metadata": {},
     "output_type": "execute_result"
    }
   ],
   "source": [
    "#dataquoc\n",
    "#dataPR\n",
    "#dataHirs\n",
    "\n",
    "dataraiz=backupHirs.join(backupquoc)\n",
    "\n",
    "lista0=[]\n",
    "for mun in dataraiz.index:\n",
    "        valor=backupPR.loc[mun]\n",
    "        lista0.append(valor[0])\n",
    "\n",
    "dataraiz['PR']=lista0\n",
    "dataraiz"
   ]
  },
  {
   "cell_type": "markdown",
   "metadata": {},
   "source": [
    "<h3>NORMALIZANDO DADOS PARA PCA ('NÃO UTILIZADO NO ARTIGO BASE') <h3>"
   ]
  },
  {
   "cell_type": "code",
   "execution_count": 63,
   "metadata": {},
   "outputs": [],
   "source": [
    "#from sklearn.preprocessing import StandardScaler\n",
    "#model=StandardScaler()\n",
    "#model.fit(dataraiz)\n",
    "#datanorma=pd.DataFrame(model.transform(dataraiz),columns=dataraiz.columns,index=dataraiz.index)\n",
    "datanorma=dataraiz"
   ]
  },
  {
   "cell_type": "markdown",
   "metadata": {},
   "source": [
    "<h3>Aplicando PCA<h3>"
   ]
  },
  {
   "cell_type": "code",
   "execution_count": 64,
   "metadata": {},
   "outputs": [
    {
     "data": {
      "text/html": [
       "<div>\n",
       "<style scoped>\n",
       "    .dataframe tbody tr th:only-of-type {\n",
       "        vertical-align: middle;\n",
       "    }\n",
       "\n",
       "    .dataframe tbody tr th {\n",
       "        vertical-align: top;\n",
       "    }\n",
       "\n",
       "    .dataframe thead th {\n",
       "        text-align: right;\n",
       "    }\n",
       "</style>\n",
       "<table border=\"1\" class=\"dataframe\">\n",
       "  <thead>\n",
       "    <tr style=\"text-align: right;\">\n",
       "      <th></th>\n",
       "      <th>componente1</th>\n",
       "      <th>componente2</th>\n",
       "      <th>componente3</th>\n",
       "    </tr>\n",
       "  </thead>\n",
       "  <tbody>\n",
       "    <tr>\n",
       "      <td>Porto Velho</td>\n",
       "      <td>-0.909276</td>\n",
       "      <td>-0.000595</td>\n",
       "      <td>7.362281e-18</td>\n",
       "    </tr>\n",
       "    <tr>\n",
       "      <td>Ariquemes</td>\n",
       "      <td>-0.909276</td>\n",
       "      <td>-0.000595</td>\n",
       "      <td>1.797238e-19</td>\n",
       "    </tr>\n",
       "    <tr>\n",
       "      <td>Ji-Paraná</td>\n",
       "      <td>-0.349800</td>\n",
       "      <td>-0.001090</td>\n",
       "      <td>-1.014086e-19</td>\n",
       "    </tr>\n",
       "    <tr>\n",
       "      <td>Vilhena</td>\n",
       "      <td>-0.597030</td>\n",
       "      <td>-0.000915</td>\n",
       "      <td>-2.720599e-19</td>\n",
       "    </tr>\n",
       "    <tr>\n",
       "      <td>Rio Branco</td>\n",
       "      <td>-0.236636</td>\n",
       "      <td>-0.001357</td>\n",
       "      <td>-1.341794e-19</td>\n",
       "    </tr>\n",
       "    <tr>\n",
       "      <td>...</td>\n",
       "      <td>...</td>\n",
       "      <td>...</td>\n",
       "      <td>...</td>\n",
       "    </tr>\n",
       "    <tr>\n",
       "      <td>Goiânia</td>\n",
       "      <td>-0.108992</td>\n",
       "      <td>0.001101</td>\n",
       "      <td>-1.055223e-19</td>\n",
       "    </tr>\n",
       "    <tr>\n",
       "      <td>Entorno de Brasília</td>\n",
       "      <td>-0.572721</td>\n",
       "      <td>-0.000887</td>\n",
       "      <td>-1.919795e-19</td>\n",
       "    </tr>\n",
       "    <tr>\n",
       "      <td>Sudoeste de Goiás</td>\n",
       "      <td>-0.807028</td>\n",
       "      <td>-0.000625</td>\n",
       "      <td>2.626324e-19</td>\n",
       "    </tr>\n",
       "    <tr>\n",
       "      <td>Meia Ponte</td>\n",
       "      <td>-0.909276</td>\n",
       "      <td>-0.000595</td>\n",
       "      <td>1.797238e-19</td>\n",
       "    </tr>\n",
       "    <tr>\n",
       "      <td>Brasília</td>\n",
       "      <td>-0.116996</td>\n",
       "      <td>-0.000728</td>\n",
       "      <td>-1.310003e-19</td>\n",
       "    </tr>\n",
       "  </tbody>\n",
       "</table>\n",
       "<p>166 rows × 3 columns</p>\n",
       "</div>"
      ],
      "text/plain": [
       "                     componente1  componente2   componente3\n",
       "Porto Velho            -0.909276    -0.000595  7.362281e-18\n",
       "Ariquemes              -0.909276    -0.000595  1.797238e-19\n",
       "Ji-Paraná              -0.349800    -0.001090 -1.014086e-19\n",
       "Vilhena                -0.597030    -0.000915 -2.720599e-19\n",
       "Rio Branco             -0.236636    -0.001357 -1.341794e-19\n",
       "...                          ...          ...           ...\n",
       "Goiânia                -0.108992     0.001101 -1.055223e-19\n",
       "Entorno de Brasília    -0.572721    -0.000887 -1.919795e-19\n",
       "Sudoeste de Goiás      -0.807028    -0.000625  2.626324e-19\n",
       "Meia Ponte             -0.909276    -0.000595  1.797238e-19\n",
       "Brasília               -0.116996    -0.000728 -1.310003e-19\n",
       "\n",
       "[166 rows x 3 columns]"
      ]
     },
     "execution_count": 64,
     "metadata": {},
     "output_type": "execute_result"
    }
   ],
   "source": [
    "from sklearn.decomposition import PCA\n",
    "pca=PCA(n_components=3)\n",
    "datapca=pd.DataFrame(pca.fit_transform(datanorma), columns='componente1 componente2 componente3'.split(),index=datanorma.index)\n",
    "datapca"
   ]
  },
  {
   "cell_type": "markdown",
   "metadata": {},
   "source": [
    "<h3>PLOTAR DISPERSÃO DE DADOS PROJETADOS NOS NOVOS COMPONENTES<h3>"
   ]
  },
  {
   "cell_type": "code",
   "execution_count": 65,
   "metadata": {},
   "outputs": [
    {
     "data": {
      "image/png": "[encoded data removed]",
      "text/plain": [
       "<Figure size 1080x360 with 1 Axes>"
      ]
     },
     "metadata": {
      "needs_background": "light"
     },
     "output_type": "display_data"
    }
   ],
   "source": [
    "fig,ax=plt.subplots(figsize=(15,5))\n",
    "ax=sns.scatterplot('componente1','componente2',data=datapca)"
   ]
  },
  {
   "cell_type": "markdown",
   "metadata": {},
   "source": [
    "<h3>PESOS DAS VARIÁVEIS<h3>"
   ]
  },
  {
   "cell_type": "code",
   "execution_count": 66,
   "metadata": {},
   "outputs": [
    {
     "data": {
      "text/html": [
       "<div>\n",
       "<style scoped>\n",
       "    .dataframe tbody tr th:only-of-type {\n",
       "        vertical-align: middle;\n",
       "    }\n",
       "\n",
       "    .dataframe tbody tr th {\n",
       "        vertical-align: top;\n",
       "    }\n",
       "\n",
       "    .dataframe thead th {\n",
       "        text-align: right;\n",
       "    }\n",
       "</style>\n",
       "<table border=\"1\" class=\"dataframe\">\n",
       "  <thead>\n",
       "    <tr style=\"text-align: right;\">\n",
       "      <th></th>\n",
       "      <th>Hirs</th>\n",
       "      <th>QLs</th>\n",
       "      <th>PR</th>\n",
       "    </tr>\n",
       "  </thead>\n",
       "  <tbody>\n",
       "    <tr>\n",
       "      <td>CP1</td>\n",
       "      <td>0.003</td>\n",
       "      <td>0.9957</td>\n",
       "      <td>0.0013</td>\n",
       "    </tr>\n",
       "    <tr>\n",
       "      <td>CP2</td>\n",
       "      <td>0.000</td>\n",
       "      <td>0.0000</td>\n",
       "      <td>0.0000</td>\n",
       "    </tr>\n",
       "    <tr>\n",
       "      <td>CP3</td>\n",
       "      <td>0.000</td>\n",
       "      <td>0.0000</td>\n",
       "      <td>0.0000</td>\n",
       "    </tr>\n",
       "  </tbody>\n",
       "</table>\n",
       "</div>"
      ],
      "text/plain": [
       "      Hirs     QLs      PR\n",
       "CP1  0.003  0.9957  0.0013\n",
       "CP2  0.000  0.0000  0.0000\n",
       "CP3  0.000  0.0000  0.0000"
      ]
     },
     "execution_count": 66,
     "metadata": {},
     "output_type": "execute_result"
    }
   ],
   "source": [
    "autovetores=np.abs(pca.components_)\n",
    "autovalores=pca.explained_variance_\n",
    "\n",
    "unit1=autovetores[0]/(autovetores[0].sum())\n",
    "unit2=autovetores[1]/(autovetores[1].sum())\n",
    "unit3=autovetores[2]/(autovetores[2].sum())\n",
    "\n",
    "cp1=unit1*pca.explained_variance_ratio_[0]\n",
    "cp2=unit2*pca.explained_variance_ratio_[1]\n",
    "cp3=unit3*pca.explained_variance_ratio_[2]\n",
    "\n",
    "datapesos=pd.DataFrame()\n",
    "datapesos['CP1']=cp1\n",
    "datapesos['CP2']=cp2\n",
    "datapesos['CP3']=cp3\n",
    "datapesos.index=datanorma.columns\n",
    "\n",
    "\n",
    "\n",
    "#DATA CONTEM VETORES UNITARIOS*VARIANCIA EXPLICADA\n",
    "datapesos=datapesos.T\n",
    "datapesos.round(4)"
   ]
  },
  {
   "cell_type": "code",
   "execution_count": 67,
   "metadata": {
    "scrolled": true
   },
   "outputs": [
    {
     "data": {
      "text/plain": [
       "Hirs    0.002952\n",
       "QLs     0.995740\n",
       "PR      0.001308\n",
       "dtype: float64"
      ]
     },
     "execution_count": 67,
     "metadata": {},
     "output_type": "execute_result"
    }
   ],
   "source": [
    "#PESOS DAS VARIAVIES\n",
    "PESOS=datapesos.sum()\n",
    "PESOS"
   ]
  },
  {
   "cell_type": "code",
   "execution_count": 68,
   "metadata": {},
   "outputs": [
    {
     "data": {
      "text/plain": [
       "1.0"
      ]
     },
     "execution_count": 68,
     "metadata": {},
     "output_type": "execute_result"
    }
   ],
   "source": [
    "#REPAR QUE A SOMA DOS PESOS DAS VARIÁVEIS==1  \n",
    "PESOS.sum().sum()"
   ]
  },
  {
   "cell_type": "markdown",
   "metadata": {},
   "source": [
    "<h3>LOADING MATRIX / MATRIZ DE CORRELAÇÃO ENTRE COMPONENTES E VARIÁVEIS<h3>"
   ]
  },
  {
   "cell_type": "code",
   "execution_count": 69,
   "metadata": {
    "scrolled": true
   },
   "outputs": [
    {
     "data": {
      "text/html": [
       "<div>\n",
       "<style scoped>\n",
       "    .dataframe tbody tr th:only-of-type {\n",
       "        vertical-align: middle;\n",
       "    }\n",
       "\n",
       "    .dataframe tbody tr th {\n",
       "        vertical-align: top;\n",
       "    }\n",
       "\n",
       "    .dataframe thead th {\n",
       "        text-align: right;\n",
       "    }\n",
       "</style>\n",
       "<table border=\"1\" class=\"dataframe\">\n",
       "  <thead>\n",
       "    <tr style=\"text-align: right;\">\n",
       "      <th></th>\n",
       "      <th>Hirs</th>\n",
       "      <th>QLs</th>\n",
       "      <th>PR</th>\n",
       "    </tr>\n",
       "  </thead>\n",
       "  <tbody>\n",
       "    <tr>\n",
       "      <td>CP1</td>\n",
       "      <td>1.000000</td>\n",
       "      <td>337.327846</td>\n",
       "      <td>0.441816</td>\n",
       "    </tr>\n",
       "    <tr>\n",
       "      <td>CP2</td>\n",
       "      <td>0.000003</td>\n",
       "      <td>0.000884</td>\n",
       "      <td>0.674767</td>\n",
       "    </tr>\n",
       "    <tr>\n",
       "      <td>CP3</td>\n",
       "      <td>0.000000</td>\n",
       "      <td>0.000000</td>\n",
       "      <td>0.000000</td>\n",
       "    </tr>\n",
       "  </tbody>\n",
       "</table>\n",
       "</div>"
      ],
      "text/plain": [
       "         Hirs         QLs        PR\n",
       "CP1  1.000000  337.327846  0.441816\n",
       "CP2  0.000003    0.000884  0.674767\n",
       "CP3  0.000000    0.000000  0.000000"
      ]
     },
     "execution_count": 69,
     "metadata": {},
     "output_type": "execute_result"
    }
   ],
   "source": [
    "#CORRELAÇÕES\n",
    "corr=pd.DataFrame(autovetores,index=datapesos.index,columns=datapesos.columns)\n",
    "corr=corr.T\n",
    "corr['CP1']=corr['CP1']*np.sqrt(autovalores[0])\n",
    "corr['CP2']=corr['CP2']*np.sqrt(autovalores[1])\n",
    "corr['CP3']=corr['CP3']*np.sqrt(autovalores[2])\n",
    "corr=corr.T\n",
    "\n",
    "\n",
    "var=datanorma.cov().iloc[0,0]\n",
    "corr=corr/(np.sqrt(var))\n",
    "corr.round(10)"
   ]
  },
  {
   "cell_type": "code",
   "execution_count": 70,
   "metadata": {},
   "outputs": [
    {
     "data": {
      "text/html": [
       "<div>\n",
       "<style scoped>\n",
       "    .dataframe tbody tr th:only-of-type {\n",
       "        vertical-align: middle;\n",
       "    }\n",
       "\n",
       "    .dataframe tbody tr th {\n",
       "        vertical-align: top;\n",
       "    }\n",
       "\n",
       "    .dataframe thead th {\n",
       "        text-align: right;\n",
       "    }\n",
       "</style>\n",
       "<table border=\"1\" class=\"dataframe\">\n",
       "  <thead>\n",
       "    <tr style=\"text-align: right;\">\n",
       "      <th></th>\n",
       "      <th>Hirs</th>\n",
       "      <th>QLs</th>\n",
       "      <th>PR</th>\n",
       "    </tr>\n",
       "  </thead>\n",
       "  <tbody>\n",
       "    <tr>\n",
       "      <td>CP1</td>\n",
       "      <td>0.006</td>\n",
       "      <td>1.873</td>\n",
       "      <td>0.002</td>\n",
       "    </tr>\n",
       "    <tr>\n",
       "      <td>CP2</td>\n",
       "      <td>0.000</td>\n",
       "      <td>0.000</td>\n",
       "      <td>0.004</td>\n",
       "    </tr>\n",
       "    <tr>\n",
       "      <td>CP3</td>\n",
       "      <td>0.000</td>\n",
       "      <td>0.000</td>\n",
       "      <td>0.000</td>\n",
       "    </tr>\n",
       "  </tbody>\n",
       "</table>\n",
       "</div>"
      ],
      "text/plain": [
       "      Hirs    QLs     PR\n",
       "CP1  0.006  1.873  0.002\n",
       "CP2  0.000  0.000  0.004\n",
       "CP3  0.000  0.000  0.000"
      ]
     },
     "execution_count": 70,
     "metadata": {},
     "output_type": "execute_result"
    }
   ],
   "source": [
    "pd.DataFrame(autovetores,index=datapesos.index,columns=datapesos.columns).round(3)"
   ]
  },
  {
   "cell_type": "code",
   "execution_count": 71,
   "metadata": {},
   "outputs": [
    {
     "data": {
      "text/html": [
       "<div>\n",
       "<style scoped>\n",
       "    .dataframe tbody tr th:only-of-type {\n",
       "        vertical-align: middle;\n",
       "    }\n",
       "\n",
       "    .dataframe tbody tr th {\n",
       "        vertical-align: top;\n",
       "    }\n",
       "\n",
       "    .dataframe thead th {\n",
       "        text-align: right;\n",
       "    }\n",
       "</style>\n",
       "<table border=\"1\" class=\"dataframe\">\n",
       "  <thead>\n",
       "    <tr style=\"text-align: right;\">\n",
       "      <th></th>\n",
       "      <th>Hirs</th>\n",
       "      <th>QLs</th>\n",
       "      <th>PR</th>\n",
       "      <th>ICn</th>\n",
       "    </tr>\n",
       "  </thead>\n",
       "  <tbody>\n",
       "    <tr>\n",
       "      <td>Porto Velho</td>\n",
       "      <td>-0.002964</td>\n",
       "      <td>0.000000</td>\n",
       "      <td>0.000000</td>\n",
       "      <td>-0.000009</td>\n",
       "    </tr>\n",
       "    <tr>\n",
       "      <td>Ariquemes</td>\n",
       "      <td>-0.002964</td>\n",
       "      <td>0.000000</td>\n",
       "      <td>0.000000</td>\n",
       "      <td>-0.000009</td>\n",
       "    </tr>\n",
       "    <tr>\n",
       "      <td>Ji-Paraná</td>\n",
       "      <td>-0.001306</td>\n",
       "      <td>0.559474</td>\n",
       "      <td>0.000237</td>\n",
       "      <td>0.557087</td>\n",
       "    </tr>\n",
       "    <tr>\n",
       "      <td>Vilhena</td>\n",
       "      <td>-0.002039</td>\n",
       "      <td>0.312244</td>\n",
       "      <td>0.000089</td>\n",
       "      <td>0.310908</td>\n",
       "    </tr>\n",
       "    <tr>\n",
       "      <td>Rio Branco</td>\n",
       "      <td>-0.000970</td>\n",
       "      <td>0.672638</td>\n",
       "      <td>0.000119</td>\n",
       "      <td>0.669770</td>\n",
       "    </tr>\n",
       "    <tr>\n",
       "      <td>...</td>\n",
       "      <td>...</td>\n",
       "      <td>...</td>\n",
       "      <td>...</td>\n",
       "      <td>...</td>\n",
       "    </tr>\n",
       "    <tr>\n",
       "      <td>Goiânia</td>\n",
       "      <td>-0.000592</td>\n",
       "      <td>0.800278</td>\n",
       "      <td>0.002744</td>\n",
       "      <td>0.796870</td>\n",
       "    </tr>\n",
       "    <tr>\n",
       "      <td>Entorno de Brasília</td>\n",
       "      <td>-0.001967</td>\n",
       "      <td>0.336554</td>\n",
       "      <td>0.000148</td>\n",
       "      <td>0.335114</td>\n",
       "    </tr>\n",
       "    <tr>\n",
       "      <td>Sudoeste de Goiás</td>\n",
       "      <td>-0.002661</td>\n",
       "      <td>0.102247</td>\n",
       "      <td>0.000104</td>\n",
       "      <td>0.101804</td>\n",
       "    </tr>\n",
       "    <tr>\n",
       "      <td>Meia Ponte</td>\n",
       "      <td>-0.002964</td>\n",
       "      <td>0.000000</td>\n",
       "      <td>0.000000</td>\n",
       "      <td>-0.000009</td>\n",
       "    </tr>\n",
       "    <tr>\n",
       "      <td>Brasília</td>\n",
       "      <td>-0.000616</td>\n",
       "      <td>0.792276</td>\n",
       "      <td>0.000905</td>\n",
       "      <td>0.788901</td>\n",
       "    </tr>\n",
       "  </tbody>\n",
       "</table>\n",
       "<p>166 rows × 4 columns</p>\n",
       "</div>"
      ],
      "text/plain": [
       "                         Hirs       QLs        PR       ICn\n",
       "Porto Velho         -0.002964  0.000000  0.000000 -0.000009\n",
       "Ariquemes           -0.002964  0.000000  0.000000 -0.000009\n",
       "Ji-Paraná           -0.001306  0.559474  0.000237  0.557087\n",
       "Vilhena             -0.002039  0.312244  0.000089  0.310908\n",
       "Rio Branco          -0.000970  0.672638  0.000119  0.669770\n",
       "...                       ...       ...       ...       ...\n",
       "Goiânia             -0.000592  0.800278  0.002744  0.796870\n",
       "Entorno de Brasília -0.001967  0.336554  0.000148  0.335114\n",
       "Sudoeste de Goiás   -0.002661  0.102247  0.000104  0.101804\n",
       "Meia Ponte          -0.002964  0.000000  0.000000 -0.000009\n",
       "Brasília            -0.000616  0.792276  0.000905  0.788901\n",
       "\n",
       "[166 rows x 4 columns]"
      ]
     },
     "execution_count": 71,
     "metadata": {},
     "output_type": "execute_result"
    }
   ],
   "source": [
    "dataraiz['ICn']=dataraiz['Hirs']*PESOS[0]+dataraiz['QLs']*PESOS[1]+dataraiz['PR']*PESOS[2]\n",
    "dataraiz"
   ]
  },
  {
   "cell_type": "markdown",
   "metadata": {},
   "source": [
    "<h1>PRINCIPAIS MICRORREGIÕES NA ATIVIDADE Fabricação de Máquinas e Aparelhos de Refrigeração e Ventilação para Uso Industrial e Comercial, Peças e Acessórios<h1>"
   ]
  },
  {
   "cell_type": "code",
   "execution_count": 72,
   "metadata": {},
   "outputs": [
    {
     "data": {
      "text/html": [
       "<div>\n",
       "<style scoped>\n",
       "    .dataframe tbody tr th:only-of-type {\n",
       "        vertical-align: middle;\n",
       "    }\n",
       "\n",
       "    .dataframe tbody tr th {\n",
       "        vertical-align: top;\n",
       "    }\n",
       "\n",
       "    .dataframe thead th {\n",
       "        text-align: right;\n",
       "    }\n",
       "</style>\n",
       "<table border=\"1\" class=\"dataframe\">\n",
       "  <thead>\n",
       "    <tr style=\"text-align: right;\">\n",
       "      <th></th>\n",
       "      <th>Hirs</th>\n",
       "      <th>QLs</th>\n",
       "      <th>PR</th>\n",
       "      <th>ICn</th>\n",
       "    </tr>\n",
       "  </thead>\n",
       "  <tbody>\n",
       "    <tr>\n",
       "      <td>Porto Velho</td>\n",
       "      <td>-0.002964</td>\n",
       "      <td>0.000000</td>\n",
       "      <td>0.000000</td>\n",
       "      <td>-0.000009</td>\n",
       "    </tr>\n",
       "    <tr>\n",
       "      <td>Guaratinguetá</td>\n",
       "      <td>-0.002964</td>\n",
       "      <td>0.000000</td>\n",
       "      <td>0.000000</td>\n",
       "      <td>-0.000009</td>\n",
       "    </tr>\n",
       "    <tr>\n",
       "      <td>Meia Ponte</td>\n",
       "      <td>-0.002964</td>\n",
       "      <td>0.000000</td>\n",
       "      <td>0.000000</td>\n",
       "      <td>-0.000009</td>\n",
       "    </tr>\n",
       "    <tr>\n",
       "      <td>Presidente Prudente</td>\n",
       "      <td>-0.002964</td>\n",
       "      <td>0.000000</td>\n",
       "      <td>0.000000</td>\n",
       "      <td>-0.000009</td>\n",
       "    </tr>\n",
       "    <tr>\n",
       "      <td>Amparo</td>\n",
       "      <td>-0.002964</td>\n",
       "      <td>0.000000</td>\n",
       "      <td>0.000000</td>\n",
       "      <td>-0.000009</td>\n",
       "    </tr>\n",
       "    <tr>\n",
       "      <td>...</td>\n",
       "      <td>...</td>\n",
       "      <td>...</td>\n",
       "      <td>...</td>\n",
       "      <td>...</td>\n",
       "    </tr>\n",
       "    <tr>\n",
       "      <td>Londrina</td>\n",
       "      <td>0.011989</td>\n",
       "      <td>5.044108</td>\n",
       "      <td>0.009063</td>\n",
       "      <td>5.022668</td>\n",
       "    </tr>\n",
       "    <tr>\n",
       "      <td>Curitiba</td>\n",
       "      <td>0.012342</td>\n",
       "      <td>5.163445</td>\n",
       "      <td>0.037084</td>\n",
       "      <td>5.141533</td>\n",
       "    </tr>\n",
       "    <tr>\n",
       "      <td>Recife</td>\n",
       "      <td>0.012368</td>\n",
       "      <td>5.171926</td>\n",
       "      <td>0.012846</td>\n",
       "      <td>5.149947</td>\n",
       "    </tr>\n",
       "    <tr>\n",
       "      <td>Santa Cruz do Sul</td>\n",
       "      <td>0.021849</td>\n",
       "      <td>8.370195</td>\n",
       "      <td>0.008277</td>\n",
       "      <td>8.334613</td>\n",
       "    </tr>\n",
       "    <tr>\n",
       "      <td>Canoinhas</td>\n",
       "      <td>0.054240</td>\n",
       "      <td>19.296629</td>\n",
       "      <td>0.014581</td>\n",
       "      <td>19.214604</td>\n",
       "    </tr>\n",
       "  </tbody>\n",
       "</table>\n",
       "<p>166 rows × 4 columns</p>\n",
       "</div>"
      ],
      "text/plain": [
       "                         Hirs        QLs        PR        ICn\n",
       "Porto Velho         -0.002964   0.000000  0.000000  -0.000009\n",
       "Guaratinguetá       -0.002964   0.000000  0.000000  -0.000009\n",
       "Meia Ponte          -0.002964   0.000000  0.000000  -0.000009\n",
       "Presidente Prudente -0.002964   0.000000  0.000000  -0.000009\n",
       "Amparo              -0.002964   0.000000  0.000000  -0.000009\n",
       "...                       ...        ...       ...        ...\n",
       "Londrina             0.011989   5.044108  0.009063   5.022668\n",
       "Curitiba             0.012342   5.163445  0.037084   5.141533\n",
       "Recife               0.012368   5.171926  0.012846   5.149947\n",
       "Santa Cruz do Sul    0.021849   8.370195  0.008277   8.334613\n",
       "Canoinhas            0.054240  19.296629  0.014581  19.214604\n",
       "\n",
       "[166 rows x 4 columns]"
      ]
     },
     "execution_count": 72,
     "metadata": {},
     "output_type": "execute_result"
    }
   ],
   "source": [
    "dataraiz.sort_values(by='ICn')"
   ]
  },
  {
   "cell_type": "markdown",
   "metadata": {},
   "source": [
    "<h1>PLOT DE DISPERSÃO DAS MICRORREGIÕES<h1>"
   ]
  },
  {
   "cell_type": "code",
   "execution_count": 73,
   "metadata": {
    "scrolled": true
   },
   "outputs": [
    {
     "data": {
      "application/vnd.plotly.v1+json": {
       "config": {
        "plotlyServerURL": "https://plot.ly"
       },
       "data": [
        {
         "hoverlabel": {
          "namelength": 0
         },
         "hovertemplate": "componente1=%{x}<br>componente2=%{y}<br>text=%{text}",
         "legendgroup": "",
         "marker": {
          "color": "#636efa",
          "symbol": "circle"
         },
         "mode": "markers+text",
         "name": "",
         "showlegend": false,
         "text": [
          "Porto Velho",
          "Ariquemes",
          "Ji-Paraná",
          "Vilhena",
          "Rio Branco",
          "Manaus",
          "Belém",
          "Castanhal",
          "Parauapebas",
          "Redenção",
          "Porto Nacional",
          "Aglomeração Urbana de São Luís",
          "Teresina",
          "Sobral",
          "Fortaleza",
          "Cariri",
          "Mossoró",
          "Macaíba",
          "Natal",
          "João Pessoa",
          "Petrolina",
          "Mata Setentrional Pernambucana",
          "Itamaracá",
          "Recife",
          "Suape",
          "Mata Alagoana",
          "Carira",
          "Barreiras",
          "Feira de Santana",
          "Salvador",
          "Guanambi",
          "Ilhéus-Itabuna",
          "Montes Claros",
          "Araçuaí",
          "Uberlândia",
          "Frutal",
          "Uberaba",
          "Belo Horizonte",
          "Governador Valadares",
          "Ipatinga",
          "Caratinga",
          "Piuí",
          "Divinópolis",
          "Campo Belo",
          "Passos",
          "Alfenas",
          "Varginha",
          "Poços de Caldas",
          "Pouso Alegre",
          "São Lourenço",
          "Itajubá",
          "Muriaé",
          "Ubá",
          "Juiz de Fora",
          "Colatina",
          "Linhares",
          "Vitória",
          "Bacia de São João",
          "Vale do Paraíba Fluminense",
          "Barra do Piraí",
          "Rio de Janeiro",
          "Jales",
          "Fernandópolis",
          "São José do Rio Preto",
          "Novo Horizonte",
          "Barretos",
          "Jaboticabal",
          "Ribeirão Preto",
          "Batatais",
          "Araçatuba",
          "Birigui",
          "Bauru",
          "Jaú",
          "Araraquara",
          "São Carlos",
          "Limeira",
          "Piracicaba",
          "Pirassununga",
          "Moji Mirim",
          "Campinas",
          "Amparo",
          "Presidente Prudente",
          "Marília",
          "Assis",
          "Ourinhos",
          "Tatuí",
          "Sorocaba",
          "Jundiaí",
          "Bragança Paulista",
          "São José dos Campos",
          "Guaratinguetá",
          "Osasco",
          "Franco da Rocha",
          "Guarulhos",
          "Itapecerica da Serra",
          "São Paulo",
          "Mogi das Cruzes",
          "Paranavaí",
          "Cianorte",
          "Campo Mourão",
          "Astorga",
          "Maringá",
          "Apucarana",
          "Londrina",
          "Assaí",
          "Ponta Grossa",
          "Toledo",
          "Cascavel-Pr",
          "Foz do Iguaçu",
          "Francisco Beltrão",
          "Pato Branco",
          "Guarapuava",
          "Prudentópolis",
          "Curitiba",
          "Rio Negro-Pr",
          "São Miguel do Oeste",
          "Chapecó",
          "Xanxerê",
          "Joaçaba",
          "Concórdia",
          "Canoinhas",
          "São Bento do Sul",
          "Joinville",
          "Campos de Lages",
          "Rio do Sul",
          "Blumenau",
          "Itajaí",
          "Florianópolis",
          "Tubarão",
          "Criciúma",
          "Santa Rosa",
          "Três Passos",
          "Frederico Westphalen",
          "Erechim",
          "Ijuí",
          "Passo Fundo",
          "Não-Me-Toque",
          "Soledade",
          "Guaporé",
          "Caxias do Sul",
          "Santa Maria",
          "Restinga Seca",
          "Santa Cruz do Sul",
          "Lajeado-Estrela",
          "Montenegro",
          "Gramado-Canela",
          "Porto Alegre",
          "Osório",
          "Pelotas",
          "Campo Grande",
          "Três Lagoas",
          "Nova Andradina",
          "Dourados",
          "Iguatemi",
          "Sinop",
          "Tangará da Serra",
          "Cuiabá",
          "Primavera do Leste",
          "Rondonópolis",
          "Rio Vermelho",
          "Anápolis",
          "Goiânia",
          "Entorno de Brasília",
          "Sudoeste de Goiás",
          "Meia Ponte",
          "Brasília"
         ],
         "textposition": "top center",
         "type": "scatter",
         "x": [
          -0.9092758133774339,
          -0.9092758133774322,
          -0.34979953895598365,
          -0.5970303662446891,
          -0.23663550085163382,
          -0.6185937423985823,
          -0.6212275517148393,
          -0.7502520285177786,
          -0.5603146804867593,
          -0.9092758133774322,
          -0.24228793914660082,
          -0.8474655979227731,
          -0.666655117905778,
          -0.8185373262041092,
          -0.3599574697022579,
          -0.7880912648839847,
          -0.585419112179578,
          -0.30574754866765613,
          -0.9092758133774322,
          -0.32361300569840823,
          0.5056254937975182,
          -0.8861947592091602,
          -0.8268663807968588,
          4.2626856245754565,
          -0.26425027690250996,
          -0.8438955945064832,
          -0.3146887302056393,
          0.36115318401526403,
          -0.6581846140925927,
          -0.8858116335190365,
          3.474151784934713,
          -0.5911007098471461,
          -0.7201747506967778,
          0.3129308877475395,
          -0.2783057672499338,
          -0.7838629505414733,
          -0.8576990201480202,
          -0.18547177216846514,
          -0.6720124764519946,
          0.006739316228503708,
          -0.9092758133774322,
          -0.717937711824448,
          -0.8775593395858365,
          -0.48522909756780486,
          0.7214922748373199,
          -0.8214296706706803,
          -0.9092758133774322,
          -0.16513028764127546,
          3.758526653656752,
          -0.3325625918610482,
          -0.8169748506460078,
          -0.8103232844108988,
          0.5848546229987861,
          -0.8593084658107959,
          -0.2158961056250917,
          -0.7363573092819894,
          -0.5133673273184102,
          -0.7254452551012831,
          -0.9009049309093343,
          -0.8415662317682517,
          -0.0530481729666296,
          1.326384089767379,
          -0.5068950753601744,
          -0.5681801174277055,
          1.0126247000451412,
          -0.7507005617145744,
          -0.8027997333013119,
          0.371641933431507,
          0.30687260706056413,
          0.22540937433998248,
          -0.6408189059455377,
          -0.37541246418222923,
          0.06868449856066937,
          -0.9092758133774322,
          0.4874050302769114,
          -0.5008661526271482,
          -0.5176431549343684,
          -0.7751915128876691,
          -0.31995068056025616,
          0.11802640157609573,
          -0.9092758133774322,
          -0.9092758133774322,
          -0.43163538253446765,
          -0.7176768074637248,
          0.009477306371682325,
          -0.7203419561080131,
          0.9719782382476665,
          0.07910615794300996,
          0.8988704215749576,
          1.8102930446998395,
          -0.9092758133774322,
          0.36328144109225574,
          -0.21485290061120613,
          0.10666785610570417,
          2.971423469800164,
          0.311314049556805,
          -0.1293461448368508,
          -0.8733208567226796,
          -0.8780054117137236,
          -0.7507415312636768,
          -0.6755603108734648,
          0.5508097459603288,
          -0.46295176784551667,
          4.134862307115579,
          0.9326145500008766,
          -0.6750479105244139,
          1.3526755971970048,
          -0.7418776464873503,
          -0.06345708261730644,
          -0.245731626845193,
          -0.5313157952045147,
          -0.6912924341813381,
          -0.796832761592521,
          4.254235772099197,
          -0.9092758133774322,
          -0.616865245134416,
          2.00845344667058,
          0.04038002992874052,
          -0.7932010552462546,
          -0.27175279378352374,
          18.38744051015906,
          -0.586008458516985,
          0.7787906444530525,
          -0.7899854415406797,
          1.9724661982446698,
          -0.08407977759464895,
          0.48839076867811554,
          3.125400131214871,
          0.9385633276842624,
          -0.8165411992310995,
          -0.6477223686187974,
          0.6630211949733265,
          -0.8584119461227148,
          -0.7805159644647716,
          -0.9092758133774322,
          -0.3755018331997525,
          -0.6840393615123532,
          -0.9092758133774322,
          -0.7721181918148489,
          0.7705724364106911,
          -0.8690073161188304,
          -0.7450454926902436,
          7.460959309011699,
          2.231213102451333,
          -0.40715822818392317,
          -0.9019206484336488,
          1.3955220863619846,
          -0.23177829229360805,
          -0.7348372847620634,
          -0.5447744599625637,
          -0.7979184562110155,
          -0.6706445342999457,
          -0.8334271218253679,
          -0.8820718392085195,
          -0.6870270413218449,
          -0.9092758133774322,
          0.27260310158055046,
          -0.5676190648978318,
          -0.8212845268209598,
          -0.7254452551012831,
          -0.7733836035515306,
          -0.10899173475577159,
          -0.5727206567237911,
          -0.8070281987498373,
          -0.9092758133774322,
          -0.11699558290897114
         ],
         "xaxis": "x",
         "y": [
          -0.0005949101721628931,
          -0.0005949101721629184,
          -0.0010903453859738817,
          -0.0009148711025436305,
          -0.0013572295611685927,
          0.00013688384966631004,
          -0.0006310092253079581,
          -0.000743856775427856,
          -0.0010074598398935103,
          -0.000594910172162918,
          -0.0013498263066117327,
          -0.000646198785366827,
          -0.0007050123036454588,
          -0.0006395869135674507,
          0.0016226583465223595,
          -0.0006794634996431165,
          -0.0009449124014725219,
          -0.0011777093004346792,
          -0.000594910172162918,
          -0.0006499706478295682,
          -0.002195900798833605,
          -0.0005954734479434903,
          -0.0006583450000700416,
          0.005476960145931611,
          -0.0009353898905114301,
          -0.000650874580604289,
          -0.0013291672767214086,
          -0.0019473448150030858,
          -0.0005974383994756129,
          -0.0005514747049596577,
          -0.005668575817598163,
          -0.0008633033887969592,
          -0.0007387498089842016,
          -0.002166022642259167,
          -0.0005609764574420703,
          -0.0006998350278833082,
          -0.0006179620952305953,
          0.0038713232522305315,
          -0.0008463306619404131,
          -0.0008156448123414628,
          -0.000594910172162918,
          -0.0008306808402800405,
          -0.0005622831082499514,
          -0.0010316352633354174,
          -0.002226461576257445,
          -0.0006802992190226451,
          -0.000594910172162918,
          -0.0009020431848605587,
          -0.0007158031748088784,
          -0.0011722554500342842,
          -0.0006713003853112747,
          -0.0006948457563570165,
          -0.0006828178238362169,
          -0.0006010206179658091,
          -0.0012063907265941964,
          -0.0006730542386846114,
          -0.0003717737879942446,
          -0.0008208478706703537,
          -0.0005910403828773957,
          -0.0006687589658835109,
          0.004854896105576686,
          -0.0030038822816321545,
          -0.0009884248371436828,
          -0.0002999829931239738,
          -0.0027116054987494313,
          -0.0007432693111761825,
          -0.0006156986120300284,
          0.0011984559389031388,
          -0.001831750543756619,
          -0.0014135506761978112,
          -0.0006498500810135105,
          -0.0007452951968162691,
          -0.0005704399307118478,
          -0.000594910172162918,
          -0.0010891901573590258,
          -2.4757957484923315e-06,
          -0.00011400381581204369,
          -0.0006963588893431905,
          -0.0004767652007682636,
          0.007493700060819411,
          -0.000594910172162918,
          -0.000594910172162918,
          -0.0007903255999182533,
          -0.0007716885051296002,
          -0.0010565670957500086,
          -0.000605029192299874,
          0.00640490767297473,
          0.0011217643854156934,
          0.0005524214383899273,
          0.005915102832933528,
          -0.000594910172162918,
          0.002321919556055682,
          -0.0011187559793497646,
          0.0020943444884960723,
          0.0024362939396609666,
          0.02492209038734258,
          0.0005492735505622472,
          -0.0006123349813692442,
          -0.0006061994074320309,
          -0.000728382138147892,
          -0.0007230157956125493,
          8.861444857245831e-05,
          -0.0005268064107743231,
          0.0018618302315841872,
          -0.0029034828469041265,
          -0.0006495193428003184,
          -0.00019028289636888556,
          -0.0005916564361433977,
          -0.0009610416217054205,
          -0.0011079797391384618,
          -0.0008526053203436895,
          -0.0007617447742797103,
          -0.0007125149053716117,
          0.029725988120100647,
          -0.000594910172162918,
          -0.0007850578694344301,
          0.0015763470032823753,
          -0.0013492115200578526,
          -0.0005392693554911832,
          -0.000955230530906962,
          -0.011287350282904342,
          -0.0006919707808618018,
          0.006613433678177608,
          -0.0006769826106473601,
          -0.000245541549340625,
          0.0028336812481280548,
          -0.0005713082562386097,
          -0.001191917855389904,
          -0.0005230785806835723,
          -0.0005383667380380287,
          -0.0008336439767368615,
          -0.00216471286688532,
          -0.0006466953704844631,
          -0.0006745517004989455,
          -0.000594910172162918,
          -0.0007896786862248383,
          -0.0008454120189709308,
          -0.000594910172162918,
          -0.0006707171305029991,
          0.006134691496969023,
          -0.0006328181343056622,
          -0.0007951765513787802,
          -0.003280685930848202,
          0.0009285842679914145,
          -0.0006147152511261578,
          -0.0005897100516118499,
          0.013934437881200025,
          -0.0011707555937111407,
          -0.000749212650440495,
          -0.000745976817153677,
          -0.0006814258952281747,
          -0.0008332888044073917,
          -0.0006200850735594063,
          -0.00061570693643853,
          -0.0008118318926405431,
          -0.000594910172162918,
          -0.0011490251454203003,
          -0.0009978929566557963,
          -0.0006656558071459174,
          -0.0008208478706703537,
          -0.0005503916565859986,
          0.0011011214781685987,
          -0.0008873765772052176,
          -0.0006249939125863022,
          -0.000594910172162918,
          -0.0007277511750618988
         ],
         "yaxis": "y"
        }
       ],
       "layout": {
        "legend": {
         "tracegroupgap": 0
        },
        "margin": {
         "t": 60
        },
        "template": {
         "data": {
          "bar": [
           {
            "error_x": {
             "color": "#2a3f5f"
            },
            "error_y": {
             "color": "#2a3f5f"
            },
            "marker": {
             "line": {
              "color": "#E5ECF6",
              "width": 0.5
             }
            },
            "type": "bar"
           }
          ],
          "barpolar": [
           {
            "marker": {
             "line": {
              "color": "#E5ECF6",
              "width": 0.5
             }
            },
            "type": "barpolar"
           }
          ],
          "carpet": [
           {
            "aaxis": {
             "endlinecolor": "#2a3f5f",
             "gridcolor": "white",
             "linecolor": "white",
             "minorgridcolor": "white",
             "startlinecolor": "#2a3f5f"
            },
            "baxis": {
             "endlinecolor": "#2a3f5f",
             "gridcolor": "white",
             "linecolor": "white",
             "minorgridcolor": "white",
             "startlinecolor": "#2a3f5f"
            },
            "type": "carpet"
           }
          ],
          "choropleth": [
           {
            "colorbar": {
             "outlinewidth": 0,
             "ticks": ""
            },
            "type": "choropleth"
           }
          ],
          "contour": [
           {
            "colorbar": {
             "outlinewidth": 0,
             "ticks": ""
            },
            "colorscale": [
             [
              0,
              "#0d0887"
             ],
             [
              0.1111111111111111,
              "#46039f"
             ],
             [
              0.2222222222222222,
              "#7201a8"
             ],
             [
              0.3333333333333333,
              "#9c179e"
             ],
             [
              0.4444444444444444,
              "#bd3786"
             ],
             [
              0.5555555555555556,
              "#d8576b"
             ],
             [
              0.6666666666666666,
              "#ed7953"
             ],
             [
              0.7777777777777778,
              "#fb9f3a"
             ],
             [
              0.8888888888888888,
              "#fdca26"
             ],
             [
              1,
              "#f0f921"
             ]
            ],
            "type": "contour"
           }
          ],
          "contourcarpet": [
           {
            "colorbar": {
             "outlinewidth": 0,
             "ticks": ""
            },
            "type": "contourcarpet"
           }
          ],
          "heatmap": [
           {
            "colorbar": {
             "outlinewidth": 0,
             "ticks": ""
            },
            "colorscale": [
             [
              0,
              "#0d0887"
             ],
             [
              0.1111111111111111,
              "#46039f"
             ],
             [
              0.2222222222222222,
              "#7201a8"
             ],
             [
              0.3333333333333333,
              "#9c179e"
             ],
             [
              0.4444444444444444,
              "#bd3786"
             ],
             [
              0.5555555555555556,
              "#d8576b"
             ],
             [
              0.6666666666666666,
              "#ed7953"
             ],
             [
              0.7777777777777778,
              "#fb9f3a"
             ],
             [
              0.8888888888888888,
              "#fdca26"
             ],
             [
              1,
              "#f0f921"
             ]
            ],
            "type": "heatmap"
           }
          ],
          "heatmapgl": [
           {
            "colorbar": {
             "outlinewidth": 0,
             "ticks": ""
            },
            "colorscale": [
             [
              0,
              "#0d0887"
             ],
             [
              0.1111111111111111,
              "#46039f"
             ],
             [
              0.2222222222222222,
              "#7201a8"
             ],
             [
              0.3333333333333333,
              "#9c179e"
             ],
             [
              0.4444444444444444,
              "#bd3786"
             ],
             [
              0.5555555555555556,
              "#d8576b"
             ],
             [
              0.6666666666666666,
              "#ed7953"
             ],
             [
              0.7777777777777778,
              "#fb9f3a"
             ],
             [
              0.8888888888888888,
              "#fdca26"
             ],
             [
              1,
              "#f0f921"
             ]
            ],
            "type": "heatmapgl"
           }
          ],
          "histogram": [
           {
            "marker": {
             "colorbar": {
              "outlinewidth": 0,
              "ticks": ""
             }
            },
            "type": "histogram"
           }
          ],
          "histogram2d": [
           {
            "colorbar": {
             "outlinewidth": 0,
             "ticks": ""
            },
            "colorscale": [
             [
              0,
              "#0d0887"
             ],
             [
              0.1111111111111111,
              "#46039f"
             ],
             [
              0.2222222222222222,
              "#7201a8"
             ],
             [
              0.3333333333333333,
              "#9c179e"
             ],
             [
              0.4444444444444444,
              "#bd3786"
             ],
             [
              0.5555555555555556,
              "#d8576b"
             ],
             [
              0.6666666666666666,
              "#ed7953"
             ],
             [
              0.7777777777777778,
              "#fb9f3a"
             ],
             [
              0.8888888888888888,
              "#fdca26"
             ],
             [
              1,
              "#f0f921"
             ]
            ],
            "type": "histogram2d"
           }
          ],
          "histogram2dcontour": [
           {
            "colorbar": {
             "outlinewidth": 0,
             "ticks": ""
            },
            "colorscale": [
             [
              0,
              "#0d0887"
             ],
             [
              0.1111111111111111,
              "#46039f"
             ],
             [
              0.2222222222222222,
              "#7201a8"
             ],
             [
              0.3333333333333333,
              "#9c179e"
             ],
             [
              0.4444444444444444,
              "#bd3786"
             ],
             [
              0.5555555555555556,
              "#d8576b"
             ],
             [
              0.6666666666666666,
              "#ed7953"
             ],
             [
              0.7777777777777778,
              "#fb9f3a"
             ],
             [
              0.8888888888888888,
              "#fdca26"
             ],
             [
              1,
              "#f0f921"
             ]
            ],
            "type": "histogram2dcontour"
           }
          ],
          "mesh3d": [
           {
            "colorbar": {
             "outlinewidth": 0,
             "ticks": ""
            },
            "type": "mesh3d"
           }
          ],
          "parcoords": [
           {
            "line": {
             "colorbar": {
              "outlinewidth": 0,
              "ticks": ""
             }
            },
            "type": "parcoords"
           }
          ],
          "pie": [
           {
            "automargin": true,
            "type": "pie"
           }
          ],
          "scatter": [
           {
            "marker": {
             "colorbar": {
              "outlinewidth": 0,
              "ticks": ""
             }
            },
            "type": "scatter"
           }
          ],
          "scatter3d": [
           {
            "line": {
             "colorbar": {
              "outlinewidth": 0,
              "ticks": ""
             }
            },
            "marker": {
             "colorbar": {
              "outlinewidth": 0,
              "ticks": ""
             }
            },
            "type": "scatter3d"
           }
          ],
          "scattercarpet": [
           {
            "marker": {
             "colorbar": {
              "outlinewidth": 0,
              "ticks": ""
             }
            },
            "type": "scattercarpet"
           }
          ],
          "scattergeo": [
           {
            "marker": {
             "colorbar": {
              "outlinewidth": 0,
              "ticks": ""
             }
            },
            "type": "scattergeo"
           }
          ],
          "scattergl": [
           {
            "marker": {
             "colorbar": {
              "outlinewidth": 0,
              "ticks": ""
             }
            },
            "type": "scattergl"
           }
          ],
          "scattermapbox": [
           {
            "marker": {
             "colorbar": {
              "outlinewidth": 0,
              "ticks": ""
             }
            },
            "type": "scattermapbox"
           }
          ],
          "scatterpolar": [
           {
            "marker": {
             "colorbar": {
              "outlinewidth": 0,
              "ticks": ""
             }
            },
            "type": "scatterpolar"
           }
          ],
          "scatterpolargl": [
           {
            "marker": {
             "colorbar": {
              "outlinewidth": 0,
              "ticks": ""
             }
            },
            "type": "scatterpolargl"
           }
          ],
          "scatterternary": [
           {
            "marker": {
             "colorbar": {
              "outlinewidth": 0,
              "ticks": ""
             }
            },
            "type": "scatterternary"
           }
          ],
          "surface": [
           {
            "colorbar": {
             "outlinewidth": 0,
             "ticks": ""
            },
            "colorscale": [
             [
              0,
              "#0d0887"
             ],
             [
              0.1111111111111111,
              "#46039f"
             ],
             [
              0.2222222222222222,
              "#7201a8"
             ],
             [
              0.3333333333333333,
              "#9c179e"
             ],
             [
              0.4444444444444444,
              "#bd3786"
             ],
             [
              0.5555555555555556,
              "#d8576b"
             ],
             [
              0.6666666666666666,
              "#ed7953"
             ],
             [
              0.7777777777777778,
              "#fb9f3a"
             ],
             [
              0.8888888888888888,
              "#fdca26"
             ],
             [
              1,
              "#f0f921"
             ]
            ],
            "type": "surface"
           }
          ],
          "table": [
           {
            "cells": {
             "fill": {
              "color": "#EBF0F8"
             },
             "line": {
              "color": "white"
             }
            },
            "header": {
             "fill": {
              "color": "#C8D4E3"
             },
             "line": {
              "color": "white"
             }
            },
            "type": "table"
           }
          ]
         },
         "layout": {
          "annotationdefaults": {
           "arrowcolor": "#2a3f5f",
           "arrowhead": 0,
           "arrowwidth": 1
          },
          "coloraxis": {
           "colorbar": {
            "outlinewidth": 0,
            "ticks": ""
           }
          },
          "colorscale": {
           "diverging": [
            [
             0,
             "#8e0152"
            ],
            [
             0.1,
             "#c51b7d"
            ],
            [
             0.2,
             "#de77ae"
            ],
            [
             0.3,
             "#f1b6da"
            ],
            [
             0.4,
             "#fde0ef"
            ],
            [
             0.5,
             "#f7f7f7"
            ],
            [
             0.6,
             "#e6f5d0"
            ],
            [
             0.7,
             "#b8e186"
            ],
            [
             0.8,
             "#7fbc41"
            ],
            [
             0.9,
             "#4d9221"
            ],
            [
             1,
             "#276419"
            ]
           ],
           "sequential": [
            [
             0,
             "#0d0887"
            ],
            [
             0.1111111111111111,
             "#46039f"
            ],
            [
             0.2222222222222222,
             "#7201a8"
            ],
            [
             0.3333333333333333,
             "#9c179e"
            ],
            [
             0.4444444444444444,
             "#bd3786"
            ],
            [
             0.5555555555555556,
             "#d8576b"
            ],
            [
             0.6666666666666666,
             "#ed7953"
            ],
            [
             0.7777777777777778,
             "#fb9f3a"
            ],
            [
             0.8888888888888888,
             "#fdca26"
            ],
            [
             1,
             "#f0f921"
            ]
           ],
           "sequentialminus": [
            [
             0,
             "#0d0887"
            ],
            [
             0.1111111111111111,
             "#46039f"
            ],
            [
             0.2222222222222222,
             "#7201a8"
            ],
            [
             0.3333333333333333,
             "#9c179e"
            ],
            [
             0.4444444444444444,
             "#bd3786"
            ],
            [
             0.5555555555555556,
             "#d8576b"
            ],
            [
             0.6666666666666666,
             "#ed7953"
            ],
            [
             0.7777777777777778,
             "#fb9f3a"
            ],
            [
             0.8888888888888888,
             "#fdca26"
            ],
            [
             1,
             "#f0f921"
            ]
           ]
          },
          "colorway": [
           "#636efa",
           "#EF553B",
           "#00cc96",
           "#ab63fa",
           "#FFA15A",
           "#19d3f3",
           "#FF6692",
           "#B6E880",
           "#FF97FF",
           "#FECB52"
          ],
          "font": {
           "color": "#2a3f5f"
          },
          "geo": {
           "bgcolor": "white",
           "lakecolor": "white",
           "landcolor": "#E5ECF6",
           "showlakes": true,
           "showland": true,
           "subunitcolor": "white"
          },
          "hoverlabel": {
           "align": "left"
          },
          "hovermode": "closest",
          "mapbox": {
           "style": "light"
          },
          "paper_bgcolor": "white",
          "plot_bgcolor": "#E5ECF6",
          "polar": {
           "angularaxis": {
            "gridcolor": "white",
            "linecolor": "white",
            "ticks": ""
           },
           "bgcolor": "#E5ECF6",
           "radialaxis": {
            "gridcolor": "white",
            "linecolor": "white",
            "ticks": ""
           }
          },
          "scene": {
           "xaxis": {
            "backgroundcolor": "#E5ECF6",
            "gridcolor": "white",
            "gridwidth": 2,
            "linecolor": "white",
            "showbackground": true,
            "ticks": "",
            "zerolinecolor": "white"
           },
           "yaxis": {
            "backgroundcolor": "#E5ECF6",
            "gridcolor": "white",
            "gridwidth": 2,
            "linecolor": "white",
            "showbackground": true,
            "ticks": "",
            "zerolinecolor": "white"
           },
           "zaxis": {
            "backgroundcolor": "#E5ECF6",
            "gridcolor": "white",
            "gridwidth": 2,
            "linecolor": "white",
            "showbackground": true,
            "ticks": "",
            "zerolinecolor": "white"
           }
          },
          "shapedefaults": {
           "line": {
            "color": "#2a3f5f"
           }
          },
          "ternary": {
           "aaxis": {
            "gridcolor": "white",
            "linecolor": "white",
            "ticks": ""
           },
           "baxis": {
            "gridcolor": "white",
            "linecolor": "white",
            "ticks": ""
           },
           "bgcolor": "#E5ECF6",
           "caxis": {
            "gridcolor": "white",
            "linecolor": "white",
            "ticks": ""
           }
          },
          "title": {
           "x": 0.05
          },
          "xaxis": {
           "automargin": true,
           "gridcolor": "white",
           "linecolor": "white",
           "ticks": "",
           "title": {
            "standoff": 15
           },
           "zerolinecolor": "white",
           "zerolinewidth": 2
          },
          "yaxis": {
           "automargin": true,
           "gridcolor": "white",
           "linecolor": "white",
           "ticks": "",
           "title": {
            "standoff": 15
           },
           "zerolinecolor": "white",
           "zerolinewidth": 2
          }
         }
        },
        "title": {
         "text": "Atividade:Fabricação de Máquinas e Aparelhos de Refrigeração e Ventilação para Uso Industrial e Comercial"
        },
        "xaxis": {
         "anchor": "y",
         "domain": [
          0,
          1
         ],
         "title": {
          "text": "componente1"
         }
        },
        "yaxis": {
         "anchor": "x",
         "domain": [
          0,
          1
         ],
         "title": {
          "text": "componente2"
         }
        }
       }
      },
      "text/html": [
       "<div>\n",
       "        \n",
       "        \n",
       "            <div id=\"a7766a11-df93-4458-87e1-7985c93eed8d\" class=\"plotly-graph-div\" style=\"height:525px; width:100%;\"></div>\n",
       "            <script type=\"text/javascript\">\n",
       "                require([\"plotly\"], function(Plotly) {\n",
       "                    window.PLOTLYENV=window.PLOTLYENV || {};\n",
       "                    \n",
       "                if (document.getElementById(\"a7766a11-df93-4458-87e1-7985c93eed8d\")) {\n",
       "                    Plotly.newPlot(\n",
       "                        'a7766a11-df93-4458-87e1-7985c93eed8d',\n",
       "                        [{\"hoverlabel\": {\"namelength\": 0}, \"hovertemplate\": \"componente1=%{x}<br>componente2=%{y}<br>text=%{text}\", \"legendgroup\": \"\", \"marker\": {\"color\": \"#636efa\", \"symbol\": \"circle\"}, \"mode\": \"markers+text\", \"name\": \"\", \"showlegend\": false, \"text\": [\"Porto Velho\", \"Ariquemes\", \"Ji-Paran\\u00e1\", \"Vilhena\", \"Rio Branco\", \"Manaus\", \"Bel\\u00e9m\", \"Castanhal\", \"Parauapebas\", \"Reden\\u00e7\\u00e3o\", \"Porto Nacional\", \"Aglomera\\u00e7\\u00e3o Urbana de S\\u00e3o Lu\\u00eds\", \"Teresina\", \"Sobral\", \"Fortaleza\", \"Cariri\", \"Mossor\\u00f3\", \"Maca\\u00edba\", \"Natal\", \"Jo\\u00e3o Pessoa\", \"Petrolina\", \"Mata Setentrional Pernambucana\", \"Itamarac\\u00e1\", \"Recife\", \"Suape\", \"Mata Alagoana\", \"Carira\", \"Barreiras\", \"Feira de Santana\", \"Salvador\", \"Guanambi\", \"Ilh\\u00e9us-Itabuna\", \"Montes Claros\", \"Ara\\u00e7ua\\u00ed\", \"Uberl\\u00e2ndia\", \"Frutal\", \"Uberaba\", \"Belo Horizonte\", \"Governador Valadares\", \"Ipatinga\", \"Caratinga\", \"Piu\\u00ed\", \"Divin\\u00f3polis\", \"Campo Belo\", \"Passos\", \"Alfenas\", \"Varginha\", \"Po\\u00e7os de Caldas\", \"Pouso Alegre\", \"S\\u00e3o Louren\\u00e7o\", \"Itajub\\u00e1\", \"Muria\\u00e9\", \"Ub\\u00e1\", \"Juiz de Fora\", \"Colatina\", \"Linhares\", \"Vit\\u00f3ria\", \"Bacia de S\\u00e3o Jo\\u00e3o\", \"Vale do Para\\u00edba Fluminense\", \"Barra do Pira\\u00ed\", \"Rio de Janeiro\", \"Jales\", \"Fernand\\u00f3polis\", \"S\\u00e3o Jos\\u00e9 do Rio Preto\", \"Novo Horizonte\", \"Barretos\", \"Jaboticabal\", \"Ribeir\\u00e3o Preto\", \"Batatais\", \"Ara\\u00e7atuba\", \"Birigui\", \"Bauru\", \"Ja\\u00fa\", \"Araraquara\", \"S\\u00e3o Carlos\", \"Limeira\", \"Piracicaba\", \"Pirassununga\", \"Moji Mirim\", \"Campinas\", \"Amparo\", \"Presidente Prudente\", \"Mar\\u00edlia\", \"Assis\", \"Ourinhos\", \"Tatu\\u00ed\", \"Sorocaba\", \"Jundia\\u00ed\", \"Bragan\\u00e7a Paulista\", \"S\\u00e3o Jos\\u00e9 dos Campos\", \"Guaratinguet\\u00e1\", \"Osasco\", \"Franco da Rocha\", \"Guarulhos\", \"Itapecerica da Serra\", \"S\\u00e3o Paulo\", \"Mogi das Cruzes\", \"Paranava\\u00ed\", \"Cianorte\", \"Campo Mour\\u00e3o\", \"Astorga\", \"Maring\\u00e1\", \"Apucarana\", \"Londrina\", \"Assa\\u00ed\", \"Ponta Grossa\", \"Toledo\", \"Cascavel-Pr\", \"Foz do Igua\\u00e7u\", \"Francisco Beltr\\u00e3o\", \"Pato Branco\", \"Guarapuava\", \"Prudent\\u00f3polis\", \"Curitiba\", \"Rio Negro-Pr\", \"S\\u00e3o Miguel do Oeste\", \"Chapec\\u00f3\", \"Xanxer\\u00ea\", \"Joa\\u00e7aba\", \"Conc\\u00f3rdia\", \"Canoinhas\", \"S\\u00e3o Bento do Sul\", \"Joinville\", \"Campos de Lages\", \"Rio do Sul\", \"Blumenau\", \"Itaja\\u00ed\", \"Florian\\u00f3polis\", \"Tubar\\u00e3o\", \"Crici\\u00fama\", \"Santa Rosa\", \"Tr\\u00eas Passos\", \"Frederico Westphalen\", \"Erechim\", \"Iju\\u00ed\", \"Passo Fundo\", \"N\\u00e3o-Me-Toque\", \"Soledade\", \"Guapor\\u00e9\", \"Caxias do Sul\", \"Santa Maria\", \"Restinga Seca\", \"Santa Cruz do Sul\", \"Lajeado-Estrela\", \"Montenegro\", \"Gramado-Canela\", \"Porto Alegre\", \"Os\\u00f3rio\", \"Pelotas\", \"Campo Grande\", \"Tr\\u00eas Lagoas\", \"Nova Andradina\", \"Dourados\", \"Iguatemi\", \"Sinop\", \"Tangar\\u00e1 da Serra\", \"Cuiab\\u00e1\", \"Primavera do Leste\", \"Rondon\\u00f3polis\", \"Rio Vermelho\", \"An\\u00e1polis\", \"Goi\\u00e2nia\", \"Entorno de Bras\\u00edlia\", \"Sudoeste de Goi\\u00e1s\", \"Meia Ponte\", \"Bras\\u00edlia\"], \"textposition\": \"top center\", \"type\": \"scatter\", \"x\": [-0.9092758133774339, -0.9092758133774322, -0.34979953895598365, -0.5970303662446891, -0.23663550085163382, -0.6185937423985823, -0.6212275517148393, -0.7502520285177786, -0.5603146804867593, -0.9092758133774322, -0.24228793914660082, -0.8474655979227731, -0.666655117905778, -0.8185373262041092, -0.3599574697022579, -0.7880912648839847, -0.585419112179578, -0.30574754866765613, -0.9092758133774322, -0.32361300569840823, 0.5056254937975182, -0.8861947592091602, -0.8268663807968588, 4.2626856245754565, -0.26425027690250996, -0.8438955945064832, -0.3146887302056393, 0.36115318401526403, -0.6581846140925927, -0.8858116335190365, 3.474151784934713, -0.5911007098471461, -0.7201747506967778, 0.3129308877475395, -0.2783057672499338, -0.7838629505414733, -0.8576990201480202, -0.18547177216846514, -0.6720124764519946, 0.006739316228503708, -0.9092758133774322, -0.717937711824448, -0.8775593395858365, -0.48522909756780486, 0.7214922748373199, -0.8214296706706803, -0.9092758133774322, -0.16513028764127546, 3.758526653656752, -0.3325625918610482, -0.8169748506460078, -0.8103232844108988, 0.5848546229987861, -0.8593084658107959, -0.2158961056250917, -0.7363573092819894, -0.5133673273184102, -0.7254452551012831, -0.9009049309093343, -0.8415662317682517, -0.0530481729666296, 1.326384089767379, -0.5068950753601744, -0.5681801174277055, 1.0126247000451412, -0.7507005617145744, -0.8027997333013119, 0.371641933431507, 0.30687260706056413, 0.22540937433998248, -0.6408189059455377, -0.37541246418222923, 0.06868449856066937, -0.9092758133774322, 0.4874050302769114, -0.5008661526271482, -0.5176431549343684, -0.7751915128876691, -0.31995068056025616, 0.11802640157609573, -0.9092758133774322, -0.9092758133774322, -0.43163538253446765, -0.7176768074637248, 0.009477306371682325, -0.7203419561080131, 0.9719782382476665, 0.07910615794300996, 0.8988704215749576, 1.8102930446998395, -0.9092758133774322, 0.36328144109225574, -0.21485290061120613, 0.10666785610570417, 2.971423469800164, 0.311314049556805, -0.1293461448368508, -0.8733208567226796, -0.8780054117137236, -0.7507415312636768, -0.6755603108734648, 0.5508097459603288, -0.46295176784551667, 4.134862307115579, 0.9326145500008766, -0.6750479105244139, 1.3526755971970048, -0.7418776464873503, -0.06345708261730644, -0.245731626845193, -0.5313157952045147, -0.6912924341813381, -0.796832761592521, 4.254235772099197, -0.9092758133774322, -0.616865245134416, 2.00845344667058, 0.04038002992874052, -0.7932010552462546, -0.27175279378352374, 18.38744051015906, -0.586008458516985, 0.7787906444530525, -0.7899854415406797, 1.9724661982446698, -0.08407977759464895, 0.48839076867811554, 3.125400131214871, 0.9385633276842624, -0.8165411992310995, -0.6477223686187974, 0.6630211949733265, -0.8584119461227148, -0.7805159644647716, -0.9092758133774322, -0.3755018331997525, -0.6840393615123532, -0.9092758133774322, -0.7721181918148489, 0.7705724364106911, -0.8690073161188304, -0.7450454926902436, 7.460959309011699, 2.231213102451333, -0.40715822818392317, -0.9019206484336488, 1.3955220863619846, -0.23177829229360805, -0.7348372847620634, -0.5447744599625637, -0.7979184562110155, -0.6706445342999457, -0.8334271218253679, -0.8820718392085195, -0.6870270413218449, -0.9092758133774322, 0.27260310158055046, -0.5676190648978318, -0.8212845268209598, -0.7254452551012831, -0.7733836035515306, -0.10899173475577159, -0.5727206567237911, -0.8070281987498373, -0.9092758133774322, -0.11699558290897114], \"xaxis\": \"x\", \"y\": [-0.0005949101721628931, -0.0005949101721629184, -0.0010903453859738817, -0.0009148711025436305, -0.0013572295611685927, 0.00013688384966631004, -0.0006310092253079581, -0.000743856775427856, -0.0010074598398935103, -0.000594910172162918, -0.0013498263066117327, -0.000646198785366827, -0.0007050123036454588, -0.0006395869135674507, 0.0016226583465223595, -0.0006794634996431165, -0.0009449124014725219, -0.0011777093004346792, -0.000594910172162918, -0.0006499706478295682, -0.002195900798833605, -0.0005954734479434903, -0.0006583450000700416, 0.005476960145931611, -0.0009353898905114301, -0.000650874580604289, -0.0013291672767214086, -0.0019473448150030858, -0.0005974383994756129, -0.0005514747049596577, -0.005668575817598163, -0.0008633033887969592, -0.0007387498089842016, -0.002166022642259167, -0.0005609764574420703, -0.0006998350278833082, -0.0006179620952305953, 0.0038713232522305315, -0.0008463306619404131, -0.0008156448123414628, -0.000594910172162918, -0.0008306808402800405, -0.0005622831082499514, -0.0010316352633354174, -0.002226461576257445, -0.0006802992190226451, -0.000594910172162918, -0.0009020431848605587, -0.0007158031748088784, -0.0011722554500342842, -0.0006713003853112747, -0.0006948457563570165, -0.0006828178238362169, -0.0006010206179658091, -0.0012063907265941964, -0.0006730542386846114, -0.0003717737879942446, -0.0008208478706703537, -0.0005910403828773957, -0.0006687589658835109, 0.004854896105576686, -0.0030038822816321545, -0.0009884248371436828, -0.0002999829931239738, -0.0027116054987494313, -0.0007432693111761825, -0.0006156986120300284, 0.0011984559389031388, -0.001831750543756619, -0.0014135506761978112, -0.0006498500810135105, -0.0007452951968162691, -0.0005704399307118478, -0.000594910172162918, -0.0010891901573590258, -2.4757957484923315e-06, -0.00011400381581204369, -0.0006963588893431905, -0.0004767652007682636, 0.007493700060819411, -0.000594910172162918, -0.000594910172162918, -0.0007903255999182533, -0.0007716885051296002, -0.0010565670957500086, -0.000605029192299874, 0.00640490767297473, 0.0011217643854156934, 0.0005524214383899273, 0.005915102832933528, -0.000594910172162918, 0.002321919556055682, -0.0011187559793497646, 0.0020943444884960723, 0.0024362939396609666, 0.02492209038734258, 0.0005492735505622472, -0.0006123349813692442, -0.0006061994074320309, -0.000728382138147892, -0.0007230157956125493, 8.861444857245831e-05, -0.0005268064107743231, 0.0018618302315841872, -0.0029034828469041265, -0.0006495193428003184, -0.00019028289636888556, -0.0005916564361433977, -0.0009610416217054205, -0.0011079797391384618, -0.0008526053203436895, -0.0007617447742797103, -0.0007125149053716117, 0.029725988120100647, -0.000594910172162918, -0.0007850578694344301, 0.0015763470032823753, -0.0013492115200578526, -0.0005392693554911832, -0.000955230530906962, -0.011287350282904342, -0.0006919707808618018, 0.006613433678177608, -0.0006769826106473601, -0.000245541549340625, 0.0028336812481280548, -0.0005713082562386097, -0.001191917855389904, -0.0005230785806835723, -0.0005383667380380287, -0.0008336439767368615, -0.00216471286688532, -0.0006466953704844631, -0.0006745517004989455, -0.000594910172162918, -0.0007896786862248383, -0.0008454120189709308, -0.000594910172162918, -0.0006707171305029991, 0.006134691496969023, -0.0006328181343056622, -0.0007951765513787802, -0.003280685930848202, 0.0009285842679914145, -0.0006147152511261578, -0.0005897100516118499, 0.013934437881200025, -0.0011707555937111407, -0.000749212650440495, -0.000745976817153677, -0.0006814258952281747, -0.0008332888044073917, -0.0006200850735594063, -0.00061570693643853, -0.0008118318926405431, -0.000594910172162918, -0.0011490251454203003, -0.0009978929566557963, -0.0006656558071459174, -0.0008208478706703537, -0.0005503916565859986, 0.0011011214781685987, -0.0008873765772052176, -0.0006249939125863022, -0.000594910172162918, -0.0007277511750618988], \"yaxis\": \"y\"}],\n",
       "                        {\"legend\": {\"tracegroupgap\": 0}, \"margin\": {\"t\": 60}, \"template\": {\"data\": {\"bar\": [{\"error_x\": {\"color\": \"#2a3f5f\"}, \"error_y\": {\"color\": \"#2a3f5f\"}, \"marker\": {\"line\": {\"color\": \"#E5ECF6\", \"width\": 0.5}}, \"type\": \"bar\"}], \"barpolar\": [{\"marker\": {\"line\": {\"color\": \"#E5ECF6\", \"width\": 0.5}}, \"type\": \"barpolar\"}], \"carpet\": [{\"aaxis\": {\"endlinecolor\": \"#2a3f5f\", \"gridcolor\": \"white\", \"linecolor\": \"white\", \"minorgridcolor\": \"white\", \"startlinecolor\": \"#2a3f5f\"}, \"baxis\": {\"endlinecolor\": \"#2a3f5f\", \"gridcolor\": \"white\", \"linecolor\": \"white\", \"minorgridcolor\": \"white\", \"startlinecolor\": \"#2a3f5f\"}, \"type\": \"carpet\"}], \"choropleth\": [{\"colorbar\": {\"outlinewidth\": 0, \"ticks\": \"\"}, \"type\": \"choropleth\"}], \"contour\": [{\"colorbar\": {\"outlinewidth\": 0, \"ticks\": \"\"}, \"colorscale\": [[0.0, \"#0d0887\"], [0.1111111111111111, \"#46039f\"], [0.2222222222222222, \"#7201a8\"], [0.3333333333333333, \"#9c179e\"], [0.4444444444444444, \"#bd3786\"], [0.5555555555555556, \"#d8576b\"], [0.6666666666666666, \"#ed7953\"], [0.7777777777777778, \"#fb9f3a\"], [0.8888888888888888, \"#fdca26\"], [1.0, \"#f0f921\"]], \"type\": \"contour\"}], \"contourcarpet\": [{\"colorbar\": {\"outlinewidth\": 0, \"ticks\": \"\"}, \"type\": \"contourcarpet\"}], \"heatmap\": [{\"colorbar\": {\"outlinewidth\": 0, \"ticks\": \"\"}, \"colorscale\": [[0.0, \"#0d0887\"], [0.1111111111111111, \"#46039f\"], [0.2222222222222222, \"#7201a8\"], [0.3333333333333333, \"#9c179e\"], [0.4444444444444444, \"#bd3786\"], [0.5555555555555556, \"#d8576b\"], [0.6666666666666666, \"#ed7953\"], [0.7777777777777778, \"#fb9f3a\"], [0.8888888888888888, \"#fdca26\"], [1.0, \"#f0f921\"]], \"type\": \"heatmap\"}], \"heatmapgl\": [{\"colorbar\": {\"outlinewidth\": 0, \"ticks\": \"\"}, \"colorscale\": [[0.0, \"#0d0887\"], [0.1111111111111111, \"#46039f\"], [0.2222222222222222, \"#7201a8\"], [0.3333333333333333, \"#9c179e\"], [0.4444444444444444, \"#bd3786\"], [0.5555555555555556, \"#d8576b\"], [0.6666666666666666, \"#ed7953\"], [0.7777777777777778, \"#fb9f3a\"], [0.8888888888888888, \"#fdca26\"], [1.0, \"#f0f921\"]], \"type\": \"heatmapgl\"}], \"histogram\": [{\"marker\": {\"colorbar\": {\"outlinewidth\": 0, \"ticks\": \"\"}}, \"type\": \"histogram\"}], \"histogram2d\": [{\"colorbar\": {\"outlinewidth\": 0, \"ticks\": \"\"}, \"colorscale\": [[0.0, \"#0d0887\"], [0.1111111111111111, \"#46039f\"], [0.2222222222222222, \"#7201a8\"], [0.3333333333333333, \"#9c179e\"], [0.4444444444444444, \"#bd3786\"], [0.5555555555555556, \"#d8576b\"], [0.6666666666666666, \"#ed7953\"], [0.7777777777777778, \"#fb9f3a\"], [0.8888888888888888, \"#fdca26\"], [1.0, \"#f0f921\"]], \"type\": \"histogram2d\"}], \"histogram2dcontour\": [{\"colorbar\": {\"outlinewidth\": 0, \"ticks\": \"\"}, \"colorscale\": [[0.0, \"#0d0887\"], [0.1111111111111111, \"#46039f\"], [0.2222222222222222, \"#7201a8\"], [0.3333333333333333, \"#9c179e\"], [0.4444444444444444, \"#bd3786\"], [0.5555555555555556, \"#d8576b\"], [0.6666666666666666, \"#ed7953\"], [0.7777777777777778, \"#fb9f3a\"], [0.8888888888888888, \"#fdca26\"], [1.0, \"#f0f921\"]], \"type\": \"histogram2dcontour\"}], \"mesh3d\": [{\"colorbar\": {\"outlinewidth\": 0, \"ticks\": \"\"}, \"type\": \"mesh3d\"}], \"parcoords\": [{\"line\": {\"colorbar\": {\"outlinewidth\": 0, \"ticks\": \"\"}}, \"type\": \"parcoords\"}], \"pie\": [{\"automargin\": true, \"type\": \"pie\"}], \"scatter\": [{\"marker\": {\"colorbar\": {\"outlinewidth\": 0, \"ticks\": \"\"}}, \"type\": \"scatter\"}], \"scatter3d\": [{\"line\": {\"colorbar\": {\"outlinewidth\": 0, \"ticks\": \"\"}}, \"marker\": {\"colorbar\": {\"outlinewidth\": 0, \"ticks\": \"\"}}, \"type\": \"scatter3d\"}], \"scattercarpet\": [{\"marker\": {\"colorbar\": {\"outlinewidth\": 0, \"ticks\": \"\"}}, \"type\": \"scattercarpet\"}], \"scattergeo\": [{\"marker\": {\"colorbar\": {\"outlinewidth\": 0, \"ticks\": \"\"}}, \"type\": \"scattergeo\"}], \"scattergl\": [{\"marker\": {\"colorbar\": {\"outlinewidth\": 0, \"ticks\": \"\"}}, \"type\": \"scattergl\"}], \"scattermapbox\": [{\"marker\": {\"colorbar\": {\"outlinewidth\": 0, \"ticks\": \"\"}}, \"type\": \"scattermapbox\"}], \"scatterpolar\": [{\"marker\": {\"colorbar\": {\"outlinewidth\": 0, \"ticks\": \"\"}}, \"type\": \"scatterpolar\"}], \"scatterpolargl\": [{\"marker\": {\"colorbar\": {\"outlinewidth\": 0, \"ticks\": \"\"}}, \"type\": \"scatterpolargl\"}], \"scatterternary\": [{\"marker\": {\"colorbar\": {\"outlinewidth\": 0, \"ticks\": \"\"}}, \"type\": \"scatterternary\"}], \"surface\": [{\"colorbar\": {\"outlinewidth\": 0, \"ticks\": \"\"}, \"colorscale\": [[0.0, \"#0d0887\"], [0.1111111111111111, \"#46039f\"], [0.2222222222222222, \"#7201a8\"], [0.3333333333333333, \"#9c179e\"], [0.4444444444444444, \"#bd3786\"], [0.5555555555555556, \"#d8576b\"], [0.6666666666666666, \"#ed7953\"], [0.7777777777777778, \"#fb9f3a\"], [0.8888888888888888, \"#fdca26\"], [1.0, \"#f0f921\"]], \"type\": \"surface\"}], \"table\": [{\"cells\": {\"fill\": {\"color\": \"#EBF0F8\"}, \"line\": {\"color\": \"white\"}}, \"header\": {\"fill\": {\"color\": \"#C8D4E3\"}, \"line\": {\"color\": \"white\"}}, \"type\": \"table\"}]}, \"layout\": {\"annotationdefaults\": {\"arrowcolor\": \"#2a3f5f\", \"arrowhead\": 0, \"arrowwidth\": 1}, \"coloraxis\": {\"colorbar\": {\"outlinewidth\": 0, \"ticks\": \"\"}}, \"colorscale\": {\"diverging\": [[0, \"#8e0152\"], [0.1, \"#c51b7d\"], [0.2, \"#de77ae\"], [0.3, \"#f1b6da\"], [0.4, \"#fde0ef\"], [0.5, \"#f7f7f7\"], [0.6, \"#e6f5d0\"], [0.7, \"#b8e186\"], [0.8, \"#7fbc41\"], [0.9, \"#4d9221\"], [1, \"#276419\"]], \"sequential\": [[0.0, \"#0d0887\"], [0.1111111111111111, \"#46039f\"], [0.2222222222222222, \"#7201a8\"], [0.3333333333333333, \"#9c179e\"], [0.4444444444444444, \"#bd3786\"], [0.5555555555555556, \"#d8576b\"], [0.6666666666666666, \"#ed7953\"], [0.7777777777777778, \"#fb9f3a\"], [0.8888888888888888, \"#fdca26\"], [1.0, \"#f0f921\"]], \"sequentialminus\": [[0.0, \"#0d0887\"], [0.1111111111111111, \"#46039f\"], [0.2222222222222222, \"#7201a8\"], [0.3333333333333333, \"#9c179e\"], [0.4444444444444444, \"#bd3786\"], [0.5555555555555556, \"#d8576b\"], [0.6666666666666666, \"#ed7953\"], [0.7777777777777778, \"#fb9f3a\"], [0.8888888888888888, \"#fdca26\"], [1.0, \"#f0f921\"]]}, \"colorway\": [\"#636efa\", \"#EF553B\", \"#00cc96\", \"#ab63fa\", \"#FFA15A\", \"#19d3f3\", \"#FF6692\", \"#B6E880\", \"#FF97FF\", \"#FECB52\"], \"font\": {\"color\": \"#2a3f5f\"}, \"geo\": {\"bgcolor\": \"white\", \"lakecolor\": \"white\", \"landcolor\": \"#E5ECF6\", \"showlakes\": true, \"showland\": true, \"subunitcolor\": \"white\"}, \"hoverlabel\": {\"align\": \"left\"}, \"hovermode\": \"closest\", \"mapbox\": {\"style\": \"light\"}, \"paper_bgcolor\": \"white\", \"plot_bgcolor\": \"#E5ECF6\", \"polar\": {\"angularaxis\": {\"gridcolor\": \"white\", \"linecolor\": \"white\", \"ticks\": \"\"}, \"bgcolor\": \"#E5ECF6\", \"radialaxis\": {\"gridcolor\": \"white\", \"linecolor\": \"white\", \"ticks\": \"\"}}, \"scene\": {\"xaxis\": {\"backgroundcolor\": \"#E5ECF6\", \"gridcolor\": \"white\", \"gridwidth\": 2, \"linecolor\": \"white\", \"showbackground\": true, \"ticks\": \"\", \"zerolinecolor\": \"white\"}, \"yaxis\": {\"backgroundcolor\": \"#E5ECF6\", \"gridcolor\": \"white\", \"gridwidth\": 2, \"linecolor\": \"white\", \"showbackground\": true, \"ticks\": \"\", \"zerolinecolor\": \"white\"}, \"zaxis\": {\"backgroundcolor\": \"#E5ECF6\", \"gridcolor\": \"white\", \"gridwidth\": 2, \"linecolor\": \"white\", \"showbackground\": true, \"ticks\": \"\", \"zerolinecolor\": \"white\"}}, \"shapedefaults\": {\"line\": {\"color\": \"#2a3f5f\"}}, \"ternary\": {\"aaxis\": {\"gridcolor\": \"white\", \"linecolor\": \"white\", \"ticks\": \"\"}, \"baxis\": {\"gridcolor\": \"white\", \"linecolor\": \"white\", \"ticks\": \"\"}, \"bgcolor\": \"#E5ECF6\", \"caxis\": {\"gridcolor\": \"white\", \"linecolor\": \"white\", \"ticks\": \"\"}}, \"title\": {\"x\": 0.05}, \"xaxis\": {\"automargin\": true, \"gridcolor\": \"white\", \"linecolor\": \"white\", \"ticks\": \"\", \"title\": {\"standoff\": 15}, \"zerolinecolor\": \"white\", \"zerolinewidth\": 2}, \"yaxis\": {\"automargin\": true, \"gridcolor\": \"white\", \"linecolor\": \"white\", \"ticks\": \"\", \"title\": {\"standoff\": 15}, \"zerolinecolor\": \"white\", \"zerolinewidth\": 2}}}, \"title\": {\"text\": \"Atividade:Fabrica\\u00e7\\u00e3o de M\\u00e1quinas e Aparelhos de Refrigera\\u00e7\\u00e3o e Ventila\\u00e7\\u00e3o para Uso Industrial e Comercial\"}, \"xaxis\": {\"anchor\": \"y\", \"domain\": [0.0, 1.0], \"title\": {\"text\": \"componente1\"}}, \"yaxis\": {\"anchor\": \"x\", \"domain\": [0.0, 1.0], \"title\": {\"text\": \"componente2\"}}},\n",
       "                        {\"responsive\": true}\n",
       "                    ).then(function(){\n",
       "                            \n",
       "var gd = document.getElementById('a7766a11-df93-4458-87e1-7985c93eed8d');\n",
       "var x = new MutationObserver(function (mutations, observer) {{\n",
       "        var display = window.getComputedStyle(gd).display;\n",
       "        if (!display || display === 'none') {{\n",
       "            console.log([gd, 'removed!']);\n",
       "            Plotly.purge(gd);\n",
       "            observer.disconnect();\n",
       "        }}\n",
       "}});\n",
       "\n",
       "// Listen for the removal of the full notebook cells\n",
       "var notebookContainer = gd.closest('#notebook-container');\n",
       "if (notebookContainer) {{\n",
       "    x.observe(notebookContainer, {childList: true});\n",
       "}}\n",
       "\n",
       "// Listen for the clearing of the current output cell\n",
       "var outputEl = gd.closest('.output');\n",
       "if (outputEl) {{\n",
       "    x.observe(outputEl, {childList: true});\n",
       "}}\n",
       "\n",
       "                        })\n",
       "                };\n",
       "                });\n",
       "            </script>\n",
       "        </div>"
      ]
     },
     "metadata": {},
     "output_type": "display_data"
    }
   ],
   "source": [
    "import plotly.express as px\n",
    "fig = px.scatter(datapca, x=\"componente1\", y=\"componente2\", text=datapca.index, log_x=False, size_max=60)\n",
    "\n",
    "fig.update_traces(textposition='top center')\n",
    "\n",
    "fig.update_layout(title_text='Atividade:Fabricação de Máquinas e Aparelhos de Refrigeração e Ventilação para Uso Industrial e Comercial')\n",
    "\n",
    "fig.show()\n",
    "\n",
    "#ATENÇÃO===========================>dê zoom"
   ]
  },
  {
   "cell_type": "code",
   "execution_count": 74,
   "metadata": {},
   "outputs": [
    {
     "data": {
      "image/jpeg": "[encoded data removed]",
      "text/plain": [
       "<IPython.core.display.Image object>"
      ]
     },
     "execution_count": 74,
     "metadata": {},
     "output_type": "execute_result"
    }
   ],
   "source": [
    "from IPython.display import Image\n",
    "Image(r'C:\\Users\\joaov\\OneDrive\\Documentos\\Material Estatística\\Principal Componente Análise\\PCA-PARA-APL\\plotly.jpg')"
   ]
  },
  {
   "cell_type": "markdown",
   "metadata": {},
   "source": [
    "<h1>*INFORMAÇÕES SOBRE PCA*<h1>\n",
    "<h2>consulte slides em pdf no repositório<h2>"
   ]
  }
 ],
 "metadata": {
  "kernelspec": {
   "display_name": "Python 3",
   "language": "python",
   "name": "python3"
  },
  "language_info": {
   "codemirror_mode": {
    "name": "ipython",
    "version": 3
   },
   "file_extension": ".py",
   "mimetype": "text/x-python",
   "name": "python",
   "nbconvert_exporter": "python",
   "pygments_lexer": "ipython3",
   "version": "3.7.4"
  }
 },
 "nbformat": 4,
 "nbformat_minor": 2
}
