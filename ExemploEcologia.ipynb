import numpy as np
import pandas as pd
import matplotlib.pyplot as plt
%matplotlib inline
import seaborn as sns

Local=['nascente','nascente','nascente','nascente','area rural','area rural','area rural','area rural','area urbana','area urbana','area urbana','area urbana']
pH=[4.5,3.5,4.5,3.5,5.8,5.5,5,4.5,6.5,7,6.8,6]
N=[1.2,1.3,1.2,1.3,1.2,1.1,1.3,1.2,2.1,1.8,1.5,1.5]
Oxigen=[0.5,0.5,0.6,0.7,0.5,0.4,0.5,0.3,0.4,0.5,0.5,0.4]
MatOrg=[5.5,5.2,5.3,5.4,5.2,5.4,5.5,5.8,8.2,8.3,8.4,8.5]

dataraiz=pd.DataFrame()
dataraiz['pH']=pH
dataraiz['N']=N
dataraiz['Oxigen']=Oxigen
dataraiz['MatOrg']=MatOrg

dataraiz
